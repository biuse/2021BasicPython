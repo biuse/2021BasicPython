{
 "cells": [
  {
   "cell_type": "markdown",
   "metadata": {},
   "source": [
    "# Lectura y escritura de ficheros\n",
    "\n",
    "En la mayoría de problemas de ciencia de datos necesitamos leer los datos desde algún archivo y podemos necesitar escribir los resultados en otro.  \n",
    "<ul style=\"list-style-type:none\">\n",
    "    <li><a href='#1.-Ficheros-de-texto'>1. Ficheros de texto</a></li>\n",
    "       <li><a href='#2.-Librería-os'>2. Librería os</a></li>\n",
    "      <li><a href=\"#3.-Ejercicios-para-practicar\">3. Ejercicios </a></li>\n",
    "    <ul style=\"list-style-type:none\">\n",
    "</ul>"
   ]
  },
  {
   "cell_type": "markdown",
   "metadata": {},
   "source": [
    "## 1. Ficheros de texto\n",
    "Para abrir un fichero usaremos la función predeterminada `open` y para cerrarla el método `close`."
   ]
  },
  {
   "cell_type": "code",
   "execution_count": 73,
   "metadata": {},
   "outputs": [
    {
     "data": {
      "text/plain": [
       "6"
      ]
     },
     "execution_count": 73,
     "metadata": {},
     "output_type": "execute_result"
    }
   ],
   "source": [
    "f = open('test2.txt', 'w') # path puede ser absoluto o relativo\n",
    "# Escribimos la palabra 'prueba' en el archivo\n",
    "f.write(\"prueba\")"
   ]
  },
  {
   "cell_type": "code",
   "execution_count": 74,
   "metadata": {},
   "outputs": [],
   "source": [
    "# Como no hemos cerrado el archivo podemos seguir escribiendo \n",
    "f.write(\"\\n\")\n",
    "f.write(\"prueba 2\")\n",
    "f.write(\"\\n\")\n",
    "f.write(\"prueba 3\")\n",
    "# Cerramos el archivo\n",
    "f.close()"
   ]
  },
  {
   "cell_type": "code",
   "execution_count": 75,
   "metadata": {},
   "outputs": [
    {
     "ename": "ValueError",
     "evalue": "I/O operation on closed file.",
     "output_type": "error",
     "traceback": [
      "\u001b[0;31m---------------------------------------------------------------------------\u001b[0m",
      "\u001b[0;31mValueError\u001b[0m                                Traceback (most recent call last)",
      "\u001b[0;32m<ipython-input-75-cb65f9594269>\u001b[0m in \u001b[0;36m<module>\u001b[0;34m\u001b[0m\n\u001b[1;32m      1\u001b[0m \u001b[0;31m# ahora que está cerrado ya no podemos escribir más\u001b[0m\u001b[0;34m\u001b[0m\u001b[0;34m\u001b[0m\u001b[0;34m\u001b[0m\u001b[0m\n\u001b[0;32m----> 2\u001b[0;31m \u001b[0mf\u001b[0m\u001b[0;34m.\u001b[0m\u001b[0mwrite\u001b[0m\u001b[0;34m(\u001b[0m\u001b[0;34m\"prueba 4\"\u001b[0m\u001b[0;34m)\u001b[0m\u001b[0;34m\u001b[0m\u001b[0;34m\u001b[0m\u001b[0m\n\u001b[0m",
      "\u001b[0;31mValueError\u001b[0m: I/O operation on closed file."
     ]
    }
   ],
   "source": [
    "# ahora que está cerrado ya no podemos escribir más\n",
    "f.write(\"prueba 4\")"
   ]
  },
  {
   "cell_type": "markdown",
   "metadata": {},
   "source": [
    "Siempre hay que recordar cerrar el archivo al terminar, porque si no estamos gastanto recursos innecesariamente. Alternativamente, podemos usar la sentencia `with` al abrir el archivo, así cuando salimos de ese contexto, Python cierra automáticamente el archivo."
   ]
  },
  {
   "cell_type": "code",
   "execution_count": 76,
   "metadata": {},
   "outputs": [],
   "source": [
    "with open('test3.txt', 'w') as f:\n",
    "    # Escribimos 'otra prueba' en el archivo\n",
    "    f.write(\"otra prueba\")"
   ]
  },
  {
   "cell_type": "markdown",
   "metadata": {},
   "source": [
    "La función `open` coge como primer argumento el *path* (relativo o absoluto) y como segundo el modo de apertura. Con este modo especificamos con qué finalidad se abre el fichero. Los más comunes son:\n",
    "\n",
    "En relación con el modo de apertura, Python reconoce los siguientes modificadores, que se pueden combinar entre ellos para especificar cómo y con qué finalidad se abre el fichero:\n",
    "\n",
    "* `r`, modo de lectura (del inglés, _**r**eading_).\n",
    "* `w`, modo de escritura (del inglés, _**w**riting_), sobrescribe el contenido del archivo si éste ya existe, o bien crea el archivo si no existe.\n",
    "* `a`, modo de escritura, escribe al final del archivo, después del contenido ya existente en el archivo (del inglés, _**a**ppend_), o bien crea el archivo si no existe.\n",
    "\n",
    "Podéis ver todos los posibles modos [aquí](https://docs.python.org/3/library/functions.html#open)"
   ]
  },
  {
   "cell_type": "code",
   "execution_count": 77,
   "metadata": {},
   "outputs": [],
   "source": [
    "# vemos un ejemplo. COm \"a\" añadimos texto al archivo\n",
    "with open('test3.txt', 'a') as f:\n",
    "    f.write(\"\\n\")  # añadimos un salto de línea\n",
    "    f.write(\"más pruebas\")"
   ]
  },
  {
   "cell_type": "code",
   "execution_count": 78,
   "metadata": {},
   "outputs": [],
   "source": [
    "# mientras que con \"w\" se borra todo lo que haya y se escribe\n",
    "with open('test3.txt', 'w') as f:\n",
    "    # Añadimos texto en el archio\n",
    "     f.write(\"siguiente prueba\")"
   ]
  },
  {
   "cell_type": "code",
   "execution_count": 79,
   "metadata": {},
   "outputs": [
    {
     "name": "stdout",
     "output_type": "stream",
     "text": [
      "siguiente prueba\n"
     ]
    }
   ],
   "source": [
    "# \"r\" nos permite leer\n",
    "with open('test3.txt', 'r') as f:\n",
    "    print(f.read())\n",
    "    "
   ]
  },
  {
   "cell_type": "markdown",
   "metadata": {},
   "source": [
    "Tal como hemos usado el método `read` leemos todo el contenido del fichero a la vez. Cuando el fichero es muy grande esto puede no ser lo más eficiente, sobretodo si no necesitamos todo el contenido del archivo. Para eso podemos ir línea a línea:"
   ]
  },
  {
   "cell_type": "code",
   "execution_count": 80,
   "metadata": {},
   "outputs": [
    {
     "name": "stdout",
     "output_type": "stream",
     "text": [
      "prueba\n",
      "\n",
      "prueba 2\n",
      "\n",
      "prueba 3\n"
     ]
    }
   ],
   "source": [
    "with open('test2.txt', 'r') as f:\n",
    "    for line in f:\n",
    "        print(line)"
   ]
  },
  {
   "cell_type": "markdown",
   "metadata": {},
   "source": [
    "## 2. Librería os\n",
    "El módulo `os` nos permite interaccionar con el sistema, aquí veremos algunas cosas como abrir y cerrar carpetas, pero podéis ver los detalles [aquí](https://docs.python.org/3/library/os.html). "
   ]
  },
  {
   "cell_type": "code",
   "execution_count": 81,
   "metadata": {},
   "outputs": [
    {
     "ename": "FileExistsError",
     "evalue": "[Errno 17] File exists: 'nueva_carpeta'",
     "output_type": "error",
     "traceback": [
      "\u001b[0;31m---------------------------------------------------------------------------\u001b[0m",
      "\u001b[0;31mFileExistsError\u001b[0m                           Traceback (most recent call last)",
      "\u001b[0;32m<ipython-input-81-3d849f2a55b5>\u001b[0m in \u001b[0;36m<module>\u001b[0;34m\u001b[0m\n\u001b[1;32m      3\u001b[0m \u001b[0mfolder\u001b[0m \u001b[0;34m=\u001b[0m \u001b[0;34m\"nueva_carpeta\"\u001b[0m\u001b[0;34m\u001b[0m\u001b[0;34m\u001b[0m\u001b[0m\n\u001b[1;32m      4\u001b[0m \u001b[0;34m\u001b[0m\u001b[0m\n\u001b[0;32m----> 5\u001b[0;31m \u001b[0mos\u001b[0m\u001b[0;34m.\u001b[0m\u001b[0mmkdir\u001b[0m\u001b[0;34m(\u001b[0m\u001b[0mfolder\u001b[0m\u001b[0;34m)\u001b[0m\u001b[0;34m\u001b[0m\u001b[0;34m\u001b[0m\u001b[0m\n\u001b[0m",
      "\u001b[0;31mFileExistsError\u001b[0m: [Errno 17] File exists: 'nueva_carpeta'"
     ]
    }
   ],
   "source": [
    "import os  # cargamos módulo\n",
    "\n",
    "folder = \"nueva_carpeta\"\n",
    "\n",
    "os.mkdir(folder)"
   ]
  },
  {
   "cell_type": "markdown",
   "metadata": {},
   "source": [
    "También podríamos abrir varias carpetas contenidas unas en otras a la vez, por ejemplo:\n"
   ]
  },
  {
   "cell_type": "code",
   "execution_count": 82,
   "metadata": {},
   "outputs": [
    {
     "ename": "FileExistsError",
     "evalue": "[Errno 17] File exists: 'nueva_carpeta/test1/test2'",
     "output_type": "error",
     "traceback": [
      "\u001b[0;31m---------------------------------------------------------------------------\u001b[0m",
      "\u001b[0;31mFileExistsError\u001b[0m                           Traceback (most recent call last)",
      "\u001b[0;32m<ipython-input-82-61d037e8c17d>\u001b[0m in \u001b[0;36m<module>\u001b[0;34m\u001b[0m\n\u001b[1;32m      1\u001b[0m \u001b[0mfolder\u001b[0m \u001b[0;34m=\u001b[0m \u001b[0;34m\"nueva_carpeta/test1/test2\"\u001b[0m\u001b[0;34m\u001b[0m\u001b[0;34m\u001b[0m\u001b[0m\n\u001b[0;32m----> 2\u001b[0;31m \u001b[0mos\u001b[0m\u001b[0;34m.\u001b[0m\u001b[0mmakedirs\u001b[0m\u001b[0;34m(\u001b[0m\u001b[0mfolder\u001b[0m\u001b[0;34m)\u001b[0m\u001b[0;34m\u001b[0m\u001b[0;34m\u001b[0m\u001b[0m\n\u001b[0m",
      "\u001b[0;32m/usr/local/Cellar/python/3.7.7/Frameworks/Python.framework/Versions/3.7/lib/python3.7/os.py\u001b[0m in \u001b[0;36mmakedirs\u001b[0;34m(name, mode, exist_ok)\u001b[0m\n\u001b[1;32m    221\u001b[0m             \u001b[0;32mreturn\u001b[0m\u001b[0;34m\u001b[0m\u001b[0;34m\u001b[0m\u001b[0m\n\u001b[1;32m    222\u001b[0m     \u001b[0;32mtry\u001b[0m\u001b[0;34m:\u001b[0m\u001b[0;34m\u001b[0m\u001b[0;34m\u001b[0m\u001b[0m\n\u001b[0;32m--> 223\u001b[0;31m         \u001b[0mmkdir\u001b[0m\u001b[0;34m(\u001b[0m\u001b[0mname\u001b[0m\u001b[0;34m,\u001b[0m \u001b[0mmode\u001b[0m\u001b[0;34m)\u001b[0m\u001b[0;34m\u001b[0m\u001b[0;34m\u001b[0m\u001b[0m\n\u001b[0m\u001b[1;32m    224\u001b[0m     \u001b[0;32mexcept\u001b[0m \u001b[0mOSError\u001b[0m\u001b[0;34m:\u001b[0m\u001b[0;34m\u001b[0m\u001b[0;34m\u001b[0m\u001b[0m\n\u001b[1;32m    225\u001b[0m         \u001b[0;31m# Cannot rely on checking for EEXIST, since the operating system\u001b[0m\u001b[0;34m\u001b[0m\u001b[0;34m\u001b[0m\u001b[0;34m\u001b[0m\u001b[0m\n",
      "\u001b[0;31mFileExistsError\u001b[0m: [Errno 17] File exists: 'nueva_carpeta/test1/test2'"
     ]
    }
   ],
   "source": [
    "folder = \"nueva_carpeta/test1/test2\"\n",
    "os.makedirs(folder)"
   ]
  },
  {
   "cell_type": "markdown",
   "metadata": {},
   "source": [
    "Y ahora ya podríamos escribir un archivo dentro de algunas de estas carpetas: "
   ]
  },
  {
   "cell_type": "code",
   "execution_count": 83,
   "metadata": {},
   "outputs": [],
   "source": [
    "with open('nueva_carpeta/fichero_de_prueba.txt', 'a') as f:\n",
    "    f.write(\"más pruebas\")\n",
    "\n",
    "with open('nueva_carpeta/test1/test2/fichero_de_prueba.txt', 'a') as f:\n",
    "    f.write(\"más pruebas\")"
   ]
  },
  {
   "cell_type": "markdown",
   "metadata": {},
   "source": [
    "También podemos borrar archivos o carpetas"
   ]
  },
  {
   "cell_type": "code",
   "execution_count": 84,
   "metadata": {},
   "outputs": [],
   "source": [
    "os.remove('test3.txt')"
   ]
  },
  {
   "cell_type": "code",
   "execution_count": 85,
   "metadata": {},
   "outputs": [
    {
     "ename": "OSError",
     "evalue": "[Errno 66] Directory not empty: 'nueva_carpeta/test1'",
     "output_type": "error",
     "traceback": [
      "\u001b[0;31m---------------------------------------------------------------------------\u001b[0m",
      "\u001b[0;31mOSError\u001b[0m                                   Traceback (most recent call last)",
      "\u001b[0;32m<ipython-input-85-82186d00662f>\u001b[0m in \u001b[0;36m<module>\u001b[0;34m\u001b[0m\n\u001b[0;32m----> 1\u001b[0;31m \u001b[0mos\u001b[0m\u001b[0;34m.\u001b[0m\u001b[0mrmdir\u001b[0m\u001b[0;34m(\u001b[0m\u001b[0;34m'nueva_carpeta/test1'\u001b[0m\u001b[0;34m)\u001b[0m\u001b[0;34m\u001b[0m\u001b[0;34m\u001b[0m\u001b[0m\n\u001b[0m",
      "\u001b[0;31mOSError\u001b[0m: [Errno 66] Directory not empty: 'nueva_carpeta/test1'"
     ]
    }
   ],
   "source": [
    "os.rmdir('nueva_carpeta/test1')"
   ]
  },
  {
   "cell_type": "markdown",
   "metadata": {},
   "source": [
    "No nos deja borrar directorios que no estén vacíos, habría que borrar primero el contenido y después la carpeta. También podríamos cambiar el nombre de un archivo o de una carpeta"
   ]
  },
  {
   "cell_type": "code",
   "execution_count": 86,
   "metadata": {},
   "outputs": [],
   "source": [
    "os.rename('test2.txt',\n",
    "          'test2_v2.txt')"
   ]
  },
  {
   "cell_type": "markdown",
   "metadata": {},
   "source": [
    "Otra función de ´os´ muy útil es poder hacer una lista de los archivos que tenemos en una carpeta. "
   ]
  },
  {
   "cell_type": "code",
   "execution_count": 41,
   "metadata": {},
   "outputs": [
    {
     "data": {
      "text/plain": [
       "['Primeros_pasos.ipynb',\n",
       " 'N6_Variables_logicas_y_condiciones.ipynb',\n",
       " 'N1_PythonBasic.ipynb',\n",
       " 'N4_lectura_y_escritura_de_ficheros.ipynb',\n",
       " 'N3_Funciones_avanzado.ipynb',\n",
       " 'N5_Modulos_matplotlib.ipynb',\n",
       " '__pycache__',\n",
       " 'test.py',\n",
       " 'N2_Funciones_y_estructuras_de_control.ipynb',\n",
       " 'N7_Loops.ipynb',\n",
       " 'untitled.txt',\n",
       " 'Numpy_y_visualization.ipynb',\n",
       " '.ipynb_checkpoints',\n",
       " 'Numpy_Pandas.ipynb',\n",
       " 'test2_v2.txt',\n",
       " 'PythonPorjects.ipynb',\n",
       " 'nueva_carpeta',\n",
       " 'smoothIntroPython.ipynb']"
      ]
     },
     "execution_count": 41,
     "metadata": {},
     "output_type": "execute_result"
    }
   ],
   "source": [
    "os.listdir()"
   ]
  },
  {
   "cell_type": "markdown",
   "metadata": {},
   "source": [
    "Para escoger solo los archivos de texto solo tendría que analizar la lista "
   ]
  },
  {
   "cell_type": "code",
   "execution_count": 49,
   "metadata": {},
   "outputs": [],
   "source": [
    "l_txt = []\n",
    "for file_name in os.listdir():\n",
    "    if file_name.endswith(\".txt\"):\n",
    "        l_txt.append(file_name)"
   ]
  },
  {
   "cell_type": "code",
   "execution_count": 50,
   "metadata": {},
   "outputs": [],
   "source": [
    "# o de forma más compacta:\n",
    "l2_txt = [file_name for file_name in os.listdir() if file_name.endswith(\".txt\")]"
   ]
  },
  {
   "cell_type": "code",
   "execution_count": 51,
   "metadata": {},
   "outputs": [
    {
     "name": "stdout",
     "output_type": "stream",
     "text": [
      "['untitled.txt', 'test2_v2.txt']\n",
      "['untitled.txt', 'test2_v2.txt']\n"
     ]
    }
   ],
   "source": [
    "print(l_txt)\n",
    "print(l2_txt)"
   ]
  },
  {
   "cell_type": "markdown",
   "metadata": {},
   "source": [
    "Por útlimo comentamos también que hay varias funciones auxiliares de path que puede ser útiles. Damos aquí unos ejemplos pero podéis verlo [aquí](https://docs.python.org/3/library/os.path.html#module-os.path)."
   ]
  },
  {
   "cell_type": "code",
   "execution_count": 52,
   "metadata": {},
   "outputs": [
    {
     "name": "stdout",
     "output_type": "stream",
     "text": [
      "/home/User/Desktop/filename.txt\n"
     ]
    }
   ],
   "source": [
    "# os.path.join permite unir paths, /home/User/Desktop/filename.txt'\n",
    "path = \"/home\"\n",
    "full_path = os.path.join(path, \"User/Desktop\", \"filename.txt\")\n",
    "print(full_path)"
   ]
  },
  {
   "cell_type": "code",
   "execution_count": 59,
   "metadata": {},
   "outputs": [
    {
     "data": {
      "text/plain": [
       "'/Users/casaponsa/WORK/DOCENCIA/BigDataPython/2021Course/BasicPython/test2_v2.txt'"
      ]
     },
     "execution_count": 59,
     "metadata": {},
     "output_type": "execute_result"
    }
   ],
   "source": [
    "# podemos obtener facilmente el path absoluto\n",
    "os.path.abspath('test2_v2.txt')"
   ]
  },
  {
   "cell_type": "code",
   "execution_count": 55,
   "metadata": {},
   "outputs": [
    {
     "name": "stdout",
     "output_type": "stream",
     "text": [
      "/home/User/Desktop\n",
      "filename.txt\n"
     ]
    }
   ],
   "source": [
    "# puede separate el directorio y el archivo \n",
    "print(os.path.dirname(full_path))\n",
    "print(os.path.basename(full_path))"
   ]
  },
  {
   "cell_type": "code",
   "execution_count": 56,
   "metadata": {},
   "outputs": [
    {
     "data": {
      "text/plain": [
       "False"
      ]
     },
     "execution_count": 56,
     "metadata": {},
     "output_type": "execute_result"
    }
   ],
   "source": [
    "# Nos puede decir si un archivo o carpeta existe o no \n",
    "os.path.exists(full_path)"
   ]
  },
  {
   "cell_type": "code",
   "execution_count": 60,
   "metadata": {},
   "outputs": [
    {
     "data": {
      "text/plain": [
       "True"
      ]
     },
     "execution_count": 60,
     "metadata": {},
     "output_type": "execute_result"
    }
   ],
   "source": [
    " os.path.exists('/Users/casaponsa/WORK/DOCENCIA/BigDataPython/2021Course/BasicPython/test2_v2.txt')"
   ]
  },
  {
   "cell_type": "code",
   "execution_count": 64,
   "metadata": {},
   "outputs": [
    {
     "data": {
      "text/plain": [
       "640"
      ]
     },
     "execution_count": 64,
     "metadata": {},
     "output_type": "execute_result"
    }
   ],
   "source": [
    "# También podemos saber cuantos bytes ocupa una carpeta o fichero\n",
    "os.path.getsize('.')"
   ]
  },
  {
   "cell_type": "markdown",
   "metadata": {},
   "source": [
    "Otra manera de interactuar con el sistema desde una notebook es usando ! antes. \n",
    " "
   ]
  },
  {
   "cell_type": "code",
   "execution_count": 65,
   "metadata": {},
   "outputs": [],
   "source": [
    "!mkdir nueva_carpeta_2"
   ]
  },
  {
   "cell_type": "markdown",
   "metadata": {},
   "source": [
    "En esta notebook hemos visto como arbir y cerrar archivos de texto, para leer bases de datos en otros formatos se suele usar `pandas` y `PySQL`."
   ]
  },
  {
   "cell_type": "markdown",
   "metadata": {},
   "source": [
    "## 3. Ejercicios para practicar"
   ]
  },
  {
   "cell_type": "markdown",
   "metadata": {},
   "source": [
    "1. Cread una carpeta que se llame \"vecinos\" en vuestro `home` (`~`). Dentro de esta carpeta abriréis 2 carpetas, una para cada uno de los compañeros o compañeras sentadas a vuestro lado en la clase. Dentro generáis un fichero y escribid 3 líneas sobre él o ella, apuntando el momento (día y hora/minutos/segundos) en qué escribís la observación.\n",
    "\n",
    "Para saber el momento podéis usar el módulo `time` para eso. Podéis ver ejemplos [aquí](https://www.programiz.com/python-programming/time).\n"
   ]
  },
  {
   "cell_type": "markdown",
   "metadata": {},
   "source": [
    "La idea es que os quede\n",
    "\n",
    "/home/victor/observaciones.txt \n",
    "/home/lara/observaciones.txt\n",
    "\n",
    "y dentro de observaciones.txt\n",
    "\n",
    "Sat Jul 10 23:13:10 2021  $\\;\\;\\;\\;\\;\\;$   pelo negro\n",
    "\n",
    "Sat Jul 10 23:15:02 2021  $\\;\\;\\;\\;\\;\\;$    sonríe"
   ]
  },
  {
   "cell_type": "code",
   "execution_count": null,
   "metadata": {},
   "outputs": [],
   "source": [
    "# Código"
   ]
  },
  {
   "cell_type": "markdown",
   "metadata": {},
   "source": [
    "2. Teniendo en cuenta que el path de cada fichero es full_path = '/Users/casaponsa/vecinos/victor.txt'.\n",
    "Recuperad por separado el nombre del directorio y el del fichero (sin hacerlo a mano) y volvedlo a reconstruir usando `join`. "
   ]
  },
  {
   "cell_type": "code",
   "execution_count": 96,
   "metadata": {},
   "outputs": [
    {
     "name": "stdout",
     "output_type": "stream",
     "text": [
      "<built-in function uname>\n"
     ]
    },
    {
     "data": {
      "text/plain": [
       "'/Users/casaponsa/WORK/DOCENCIA/BigDataPython/2021Course/BasicPython'"
      ]
     },
     "execution_count": 96,
     "metadata": {},
     "output_type": "execute_result"
    }
   ],
   "source": [
    "# Código\n",
    "print(os.uname)\n",
    "os.path.abspath('')"
   ]
  },
  {
   "cell_type": "markdown",
   "metadata": {},
   "source": [
    "3. Escribe un programa de Python que te devuelva el sistema operativo, información más detallada del sistema opertivo como la versión, el directorio en el que estamos y que te de una lista de los archivos y carpetas que hay en ese directorio."
   ]
  },
  {
   "cell_type": "code",
   "execution_count": null,
   "metadata": {},
   "outputs": [],
   "source": [
    "# Código"
   ]
  },
  {
   "cell_type": "markdown",
   "metadata": {},
   "source": [
    "4. Ahora haz un programa que te haga una lista con los archivos solo y otra con solo las carpetas. (si solo tienes archivos, genera un par de carpetas antes)"
   ]
  },
  {
   "cell_type": "code",
   "execution_count": 97,
   "metadata": {},
   "outputs": [],
   "source": [
    "# Código"
   ]
  },
  {
   "cell_type": "markdown",
   "metadata": {},
   "source": [
    "5. Escribe una función que coja un path de un directorio, compruebe que el directorio exista, que cuente cuántos archivos hay dentro y qué extensión tienen.\n",
    "\n",
    "5.1 Aplica esta función a la carpeta images que tendréis en este directorio. \n",
    "\n"
   ]
  },
  {
   "cell_type": "code",
   "execution_count": null,
   "metadata": {},
   "outputs": [],
   "source": [
    "# Código "
   ]
  }
 ],
 "metadata": {
  "kernelspec": {
   "display_name": "Python 2",
   "language": "python",
   "name": "python2"
  },
  "language_info": {
   "codemirror_mode": {
    "name": "ipython",
    "version": 3
   },
   "file_extension": ".py",
   "mimetype": "text/x-python",
   "name": "python",
   "nbconvert_exporter": "python",
   "pygments_lexer": "ipython3",
   "version": "3.7.7"
  }
 },
 "nbformat": 4,
 "nbformat_minor": 2
}
