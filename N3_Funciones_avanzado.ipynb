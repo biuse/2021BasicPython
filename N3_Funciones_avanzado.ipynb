{
 "cells": [
  {
   "cell_type": "markdown",
   "metadata": {},
   "source": [
    "# Uso avanzado de funciones\n",
    "Hemos visto antes como generar una función. Aquí damos más detalles de algunos usos más avanzados de las funciones. Veremos el ámbito de una variable (*scope*), como devuelven valores esas funciones y que tipo de argumentos pueden tener. Finalmente veremos que es el *docstring*, muy útil cuando compartimos nuestro código.  \n",
    "\n",
    "<ul style=\"list-style-type:none\">\n",
    "    <li><a href='#1.-Ámbito'>1. Ámbito</a></li>\n",
    "       <li><a href='#2.-Valor-de-retorno'>2. Valor de retorno</a></li>\n",
    "    <li><a href='#3.-Parámetros-de-entrada'>3. Parámetros de entrada</a></li>\n",
    "    <li><a href=\"#4.-Docstring\">4. Docstring </a></li>\n",
    "    <li><a href=\"#5.-Módulos\">5. Módulos </a></li>\n",
    "    <li><a href=\"#6.-Ejercicios-para-practicar\">6. Ejercicios </a></li>\n",
    "\n",
    "\n",
    "\n",
    "    \n",
    "\n",
    "</ul>"
   ]
  },
  {
   "cell_type": "code",
   "execution_count": 1,
   "metadata": {},
   "outputs": [],
   "source": [
    "# Definimos la función de nombre 'sum_two_values' con dos argumentos:\n",
    "# 'x' y 'y':\n",
    "def sum_two_values(x, y):\n",
    "    \"\"\"Return the value of the sum.\"\"\"\n",
    "    return x + y"
   ]
  },
  {
   "cell_type": "code",
   "execution_count": 2,
   "metadata": {},
   "outputs": [
    {
     "data": {
      "text/plain": [
       "133"
      ]
     },
     "execution_count": 2,
     "metadata": {},
     "output_type": "execute_result"
    }
   ],
   "source": [
    "sum_two_values(10,123)"
   ]
  },
  {
   "cell_type": "markdown",
   "metadata": {},
   "source": [
    "## 1. Ámbito\n",
    "Existen variables **globales** y **locales** dependiendo de su ámbito de acutación. Una variable local es solo visible dentro de la función, mientras que una variable global se ve dentro y fuera."
   ]
  },
  {
   "cell_type": "code",
   "execution_count": 34,
   "metadata": {},
   "outputs": [],
   "source": [
    "# Definimos una variable global\n",
    "global_var = \"x1\"\n",
    "\n",
    "\n",
    "def fun_1():\n",
    "    # Definimos una variable local dentro de fun_1\n",
    "    local_var_1 = \"x2\"\n",
    "    # Mostramos el valor de la variable global y de la local\n",
    "    print(global_var)\n",
    "    print(local_var_1)\n",
    "\n",
    "\n",
    "def fun_2():\n",
    "    # Mostramos la variable global\n",
    "    print(global_var)\n",
    "    # Intentamos acceder a la variable local local_var_1,\n",
    "    # cosa que generará un error ya que no está definida\n",
    "    # dentro de la función fun_2\n",
    "    print(local_var_1)"
   ]
  },
  {
   "cell_type": "code",
   "execution_count": 6,
   "metadata": {},
   "outputs": [
    {
     "data": {
      "text/plain": [
       "'x1'"
      ]
     },
     "execution_count": 6,
     "metadata": {},
     "output_type": "execute_result"
    }
   ],
   "source": [
    "global_var"
   ]
  },
  {
   "cell_type": "code",
   "execution_count": 7,
   "metadata": {},
   "outputs": [
    {
     "ename": "NameError",
     "evalue": "name 'local_var_1' is not defined",
     "output_type": "error",
     "traceback": [
      "\u001b[0;31m---------------------------------------------------------------------------\u001b[0m",
      "\u001b[0;31mNameError\u001b[0m                                 Traceback (most recent call last)",
      "\u001b[0;32m<ipython-input-7-ca92d0e6ab51>\u001b[0m in \u001b[0;36m<module>\u001b[0;34m\u001b[0m\n\u001b[0;32m----> 1\u001b[0;31m \u001b[0mlocal_var_1\u001b[0m\u001b[0;34m\u001b[0m\u001b[0;34m\u001b[0m\u001b[0m\n\u001b[0m",
      "\u001b[0;31mNameError\u001b[0m: name 'local_var_1' is not defined"
     ]
    }
   ],
   "source": [
    "local_var_1"
   ]
  },
  {
   "cell_type": "code",
   "execution_count": 4,
   "metadata": {},
   "outputs": [
    {
     "name": "stdout",
     "output_type": "stream",
     "text": [
      "x1\n",
      "x2\n"
     ]
    }
   ],
   "source": [
    "fun_1()"
   ]
  },
  {
   "cell_type": "code",
   "execution_count": 8,
   "metadata": {},
   "outputs": [
    {
     "name": "stdout",
     "output_type": "stream",
     "text": [
      "x1\n"
     ]
    },
    {
     "ename": "NameError",
     "evalue": "name 'local_var_1' is not defined",
     "output_type": "error",
     "traceback": [
      "\u001b[0;31m---------------------------------------------------------------------------\u001b[0m",
      "\u001b[0;31mNameError\u001b[0m                                 Traceback (most recent call last)",
      "\u001b[0;32m<ipython-input-8-4693c9cc961c>\u001b[0m in \u001b[0;36m<module>\u001b[0;34m\u001b[0m\n\u001b[0;32m----> 1\u001b[0;31m \u001b[0mfun_2\u001b[0m\u001b[0;34m(\u001b[0m\u001b[0;34m)\u001b[0m\u001b[0;34m\u001b[0m\u001b[0;34m\u001b[0m\u001b[0m\n\u001b[0m",
      "\u001b[0;32m<ipython-input-3-031078a1b1c1>\u001b[0m in \u001b[0;36mfun_2\u001b[0;34m()\u001b[0m\n\u001b[1;32m     17\u001b[0m     \u001b[0;31m# cosa que generará un error ya que no está definida\u001b[0m\u001b[0;34m\u001b[0m\u001b[0;34m\u001b[0m\u001b[0;34m\u001b[0m\u001b[0m\n\u001b[1;32m     18\u001b[0m     \u001b[0;31m# dentro de la función fun_2\u001b[0m\u001b[0;34m\u001b[0m\u001b[0;34m\u001b[0m\u001b[0;34m\u001b[0m\u001b[0m\n\u001b[0;32m---> 19\u001b[0;31m     \u001b[0mprint\u001b[0m\u001b[0;34m(\u001b[0m\u001b[0mlocal_var_1\u001b[0m\u001b[0;34m)\u001b[0m\u001b[0;34m\u001b[0m\u001b[0;34m\u001b[0m\u001b[0m\n\u001b[0m",
      "\u001b[0;31mNameError\u001b[0m: name 'local_var_1' is not defined"
     ]
    }
   ],
   "source": [
    "fun_2()"
   ]
  },
  {
   "cell_type": "markdown",
   "metadata": {},
   "source": [
    "Las variables locales solo se ven dentro de la función donde están definidas. En cambio las variables globales se ven dentro y fuera de la función. Y se pueden modificar dentro de la función siempre que indiquemos que es una variable global usando `global`"
   ]
  },
  {
   "cell_type": "code",
   "execution_count": 39,
   "metadata": {},
   "outputs": [],
   "source": [
    "def fun_3():\n",
    "    # Asignamos la variable global_var\n",
    "    global_var = 'x4'\n",
    "    print(global_var)\n",
    "    # Mostramos el valor de global_var"
   ]
  },
  {
   "cell_type": "code",
   "execution_count": 40,
   "metadata": {},
   "outputs": [
    {
     "name": "stdout",
     "output_type": "stream",
     "text": [
      "x4\n",
      "x4\n",
      "x4\n"
     ]
    }
   ],
   "source": [
    "print(global_var)\n",
    "fun_3()\n",
    "print(global_var)"
   ]
  },
  {
   "cell_type": "code",
   "execution_count": 41,
   "metadata": {},
   "outputs": [],
   "source": [
    "def fun_3():\n",
    "    global global_var\n",
    "    # Asignamos la variable global_var\n",
    "    global_var = 'x4'\n",
    "    print(global_var)\n",
    "    # Mostramos el valor de global_var"
   ]
  },
  {
   "cell_type": "code",
   "execution_count": 38,
   "metadata": {},
   "outputs": [
    {
     "name": "stdout",
     "output_type": "stream",
     "text": [
      "x1\n",
      "x4\n",
      "x4\n"
     ]
    }
   ],
   "source": [
    "print(global_var)\n",
    "fun_3()\n",
    "print(global_var)\n",
    "\n"
   ]
  },
  {
   "cell_type": "markdown",
   "metadata": {},
   "source": [
    "## 2. Valor de retorno\n",
    "Las funciones pueden devolver uno o más valores de retorno usando el comando `return`. "
   ]
  },
  {
   "cell_type": "code",
   "execution_count": 42,
   "metadata": {},
   "outputs": [],
   "source": [
    "# Definimos una función sin return\n",
    "def suma(x, y):\n",
    "    print(\"Result is: {}\".format(x + y))\n",
    "\n",
    "\n",
    "# Definimos una función con retorno vacío\n",
    "def suma_retorno(x, y):\n",
    "    print(\"Result is: {}\".format(x+y))\n",
    "    return x + y\n",
    "\n"
   ]
  },
  {
   "cell_type": "code",
   "execution_count": 44,
   "metadata": {},
   "outputs": [
    {
     "name": "stdout",
     "output_type": "stream",
     "text": [
      "Result is: 7\n"
     ]
    }
   ],
   "source": [
    "r = suma(3,4)"
   ]
  },
  {
   "cell_type": "code",
   "execution_count": 45,
   "metadata": {},
   "outputs": [
    {
     "name": "stdout",
     "output_type": "stream",
     "text": [
      "None\n"
     ]
    }
   ],
   "source": [
    "print(r)"
   ]
  },
  {
   "cell_type": "code",
   "execution_count": 46,
   "metadata": {},
   "outputs": [
    {
     "name": "stdout",
     "output_type": "stream",
     "text": [
      "Result is: 7\n"
     ]
    }
   ],
   "source": [
    "r = suma_retorno(3,4)"
   ]
  },
  {
   "cell_type": "code",
   "execution_count": 48,
   "metadata": {},
   "outputs": [
    {
     "name": "stdout",
     "output_type": "stream",
     "text": [
      "7\n"
     ]
    }
   ],
   "source": [
    "print(r) # me ha guardado el resultado en la variable r"
   ]
  },
  {
   "cell_type": "markdown",
   "metadata": {},
   "source": [
    "En realidad solo nos devuelve un objeto, si queremos que nos devuelva más de un valor, tendrá que ser en forma de tupla. "
   ]
  },
  {
   "cell_type": "code",
   "execution_count": 56,
   "metadata": {},
   "outputs": [
    {
     "name": "stdout",
     "output_type": "stream",
     "text": [
      "La suma de (5, 11) es 16 (<class 'int'>)\n",
      "La suma y la multiplicación de (5, 11) es (16, 55) (<class 'tuple'>)\n"
     ]
    }
   ],
   "source": [
    "def suma(x, y):\n",
    "    \"\"\"Return a tuple with the value of the sum and the product.\"\"\"\n",
    "    return x + y\n",
    "def suma_y_mult(x, y):\n",
    "    \"\"\"Return the value of the sum.\"\"\"\n",
    "    return x + y, x*y  # las tuplas se pueden escribir con o sin paréntesis\n",
    "\n",
    "\n",
    "\n",
    "r1 = suma(5, 11)\n",
    "r2 = suma_y_mult(5, 11)\n",
    "print(\"La suma de (5, 11) es {} ({})\".\n",
    "      format(r1, type(r1)))\n",
    "print(\"La suma y la multiplicación de (5, 11) es {} ({})\".\n",
    "      format(r2, type(r2)))"
   ]
  },
  {
   "cell_type": "markdown",
   "metadata": {},
   "source": [
    "También te podría devolver una función. Vemos un ejemplo donde te devuelve la función predefinida min o max dependiendo de si el parámetro de entrada es par o no."
   ]
  },
  {
   "cell_type": "code",
   "execution_count": 57,
   "metadata": {},
   "outputs": [],
   "source": [
    "def min_or_max(x):\n",
    "    \"\"\"Return either the min or the max function.\"\"\"\n",
    "    if x % 2:\n",
    "        # sel es impar\n",
    "        f = max\n",
    "    else:\n",
    "        # sel es par\n",
    "        f = min\n",
    "    return f"
   ]
  },
  {
   "cell_type": "code",
   "execution_count": 58,
   "metadata": {},
   "outputs": [
    {
     "data": {
      "text/plain": [
       "<function min>"
      ]
     },
     "execution_count": 58,
     "metadata": {},
     "output_type": "execute_result"
    }
   ],
   "source": [
    "min_or_max(2)"
   ]
  },
  {
   "cell_type": "markdown",
   "metadata": {},
   "source": [
    "## 3. Parámetros de entrada\n",
    "Formalmente, distinguimos entre parámetros y argumentos. Los parámetros son parte de la definición de la función, mientras que los argumentos son los valores que recibe la función en el momento de ejecutarla. Por ejemplo, en la la función `suma` que definimos antes, `x` e `y` son los parámetros de la función, y cuando hacemos la llamada `suma(3, 4)`, `3` y `4` son los argumentos.\n",
    "\n",
    "Informalmente, sin embargo, a menudo se utilizan ambos términos indistintamente."
   ]
  },
  {
   "cell_type": "markdown",
   "metadata": {},
   "source": [
    "Los parámetros pueden ser opcionales o no, si son opcionales les daremos un valor por defecto. "
   ]
  },
  {
   "cell_type": "code",
   "execution_count": 70,
   "metadata": {},
   "outputs": [],
   "source": [
    "def suma(x, y, z = 0):\n",
    "    return x + y + z "
   ]
  },
  {
   "cell_type": "code",
   "execution_count": 61,
   "metadata": {},
   "outputs": [
    {
     "name": "stdout",
     "output_type": "stream",
     "text": [
      "5\n",
      "10\n"
     ]
    }
   ],
   "source": [
    "# la función se ejecuta tanto si le das 2 como 3 parámetros\n",
    "print(suma(2, 3))\n",
    "\n",
    "print(suma(2, 3, 5))"
   ]
  },
  {
   "cell_type": "code",
   "execution_count": 65,
   "metadata": {},
   "outputs": [
    {
     "ename": "TypeError",
     "evalue": "suma() takes 2 positional arguments but 4 were given",
     "output_type": "error",
     "traceback": [
      "\u001b[0;31m---------------------------------------------------------------------------\u001b[0m",
      "\u001b[0;31mTypeError\u001b[0m                                 Traceback (most recent call last)",
      "\u001b[0;32m<ipython-input-65-5069d88b5f86>\u001b[0m in \u001b[0;36m<module>\u001b[0;34m\u001b[0m\n\u001b[1;32m      1\u001b[0m \u001b[0;31m# y da error si le das más o menos\u001b[0m\u001b[0;34m\u001b[0m\u001b[0;34m\u001b[0m\u001b[0;34m\u001b[0m\u001b[0m\n\u001b[0;32m----> 2\u001b[0;31m \u001b[0mprint\u001b[0m\u001b[0;34m(\u001b[0m\u001b[0msuma\u001b[0m\u001b[0;34m(\u001b[0m\u001b[0;36m2\u001b[0m\u001b[0;34m,\u001b[0m \u001b[0;36m3\u001b[0m\u001b[0;34m,\u001b[0m \u001b[0;36m5\u001b[0m\u001b[0;34m,\u001b[0m \u001b[0;36m4\u001b[0m\u001b[0;34m)\u001b[0m\u001b[0;34m)\u001b[0m\u001b[0;34m\u001b[0m\u001b[0;34m\u001b[0m\u001b[0m\n\u001b[0m",
      "\u001b[0;31mTypeError\u001b[0m: suma() takes 2 positional arguments but 4 were given"
     ]
    }
   ],
   "source": [
    "# y da error si le das más o menos\n",
    "print(suma(2, 3, 5, 4))\n"
   ]
  },
  {
   "cell_type": "code",
   "execution_count": 66,
   "metadata": {},
   "outputs": [
    {
     "ename": "TypeError",
     "evalue": "suma() missing 1 required positional argument: 'y'",
     "output_type": "error",
     "traceback": [
      "\u001b[0;31m---------------------------------------------------------------------------\u001b[0m",
      "\u001b[0;31mTypeError\u001b[0m                                 Traceback (most recent call last)",
      "\u001b[0;32m<ipython-input-66-e4142411e495>\u001b[0m in \u001b[0;36m<module>\u001b[0;34m\u001b[0m\n\u001b[0;32m----> 1\u001b[0;31m \u001b[0mprint\u001b[0m\u001b[0;34m(\u001b[0m\u001b[0msuma\u001b[0m\u001b[0;34m(\u001b[0m\u001b[0;36m2\u001b[0m\u001b[0;34m)\u001b[0m\u001b[0;34m)\u001b[0m\u001b[0;34m\u001b[0m\u001b[0;34m\u001b[0m\u001b[0m\n\u001b[0m",
      "\u001b[0;31mTypeError\u001b[0m: suma() missing 1 required positional argument: 'y'"
     ]
    }
   ],
   "source": [
    "print(suma(2))"
   ]
  },
  {
   "cell_type": "markdown",
   "metadata": {},
   "source": [
    "A los parámetros fijos se les suele puede dar argumentos por posición o bien por su nombre (*keyword arguments*). Por ejemplo en `suma(x,y)` el primero que pongamos será el argumento del parámetro `x` y el segundo el de `y`, `suma(3, 4)`. Y entonces los opcionales tienen que ir al final, o bien podemos lanzar la función como `suma(y = 3, x = 4)` y los opcionales podrían ir en medio"
   ]
  },
  {
   "cell_type": "code",
   "execution_count": 75,
   "metadata": {},
   "outputs": [
    {
     "data": {
      "text/plain": [
       "8"
      ]
     },
     "execution_count": 75,
     "metadata": {},
     "output_type": "execute_result"
    }
   ],
   "source": [
    "suma(y = 3, z = 1, x = 4)"
   ]
  },
  {
   "cell_type": "code",
   "execution_count": 76,
   "metadata": {},
   "outputs": [
    {
     "ename": "SyntaxError",
     "evalue": "positional argument follows keyword argument (<ipython-input-76-4dadc2fa7e16>, line 1)",
     "output_type": "error",
     "traceback": [
      "\u001b[0;36m  File \u001b[0;32m\"<ipython-input-76-4dadc2fa7e16>\"\u001b[0;36m, line \u001b[0;32m1\u001b[0m\n\u001b[0;31m    suma(3, z=1, 2)\u001b[0m\n\u001b[0m                ^\u001b[0m\n\u001b[0;31mSyntaxError\u001b[0m\u001b[0;31m:\u001b[0m positional argument follows keyword argument\n"
     ]
    }
   ],
   "source": [
    "suma(3, z=1, 2)"
   ]
  },
  {
   "cell_type": "markdown",
   "metadata": {},
   "source": [
    "Imaginad que no sabemos cuantos números queremos sumar, y preferimos dejar un número indeterminado de argumentos. Esto se puede ace usando `\\*` en la definición de la función. Lo vemos con la función `suma` otra vez:\n"
   ]
  },
  {
   "cell_type": "code",
   "execution_count": 77,
   "metadata": {},
   "outputs": [],
   "source": [
    "def suma(x, y, *extra_arguments):\n",
    "    print(\"Argumentos obligatorios x e y: x={}, y={}\".format(x, y))\n",
    "    print(\"Argumentos adicionales: {}\".format(extra_arguments))\n",
    "    return x + y + sum(extra_arguments)"
   ]
  },
  {
   "cell_type": "code",
   "execution_count": 78,
   "metadata": {},
   "outputs": [
    {
     "name": "stdout",
     "output_type": "stream",
     "text": [
      "Argumentos obligatorios x e y: x=3, y=4\n",
      "Argumentos adicionales: (2, 5, 10)\n"
     ]
    },
    {
     "data": {
      "text/plain": [
       "24"
      ]
     },
     "execution_count": 78,
     "metadata": {},
     "output_type": "execute_result"
    }
   ],
   "source": [
    "suma(3, 4, 2, 5, 10)"
   ]
  },
  {
   "cell_type": "markdown",
   "metadata": {},
   "source": [
    "Si los quiero añadir con nombre, porque la función necesita tener identificados esos parámetros, usaremos *keyword* arguments y entonces tenemos que usar `**` en la definición. Pero entonces los argumentos opcionales se guardan en un diccionario."
   ]
  },
  {
   "cell_type": "code",
   "execution_count": 92,
   "metadata": {},
   "outputs": [],
   "source": [
    "def suma(x, y, **extra_arguments):\n",
    "    print(\"Argumentos obligatorios x e y: x={}, y={}\".format(x, y))\n",
    "    print(\"Argumentos adicionales: {}\".format(extra_arguments.values()))\n",
    "    return x + y + sum(extra_arguments.values())"
   ]
  },
  {
   "cell_type": "code",
   "execution_count": 93,
   "metadata": {},
   "outputs": [
    {
     "name": "stdout",
     "output_type": "stream",
     "text": [
      "Argumentos obligatorios x e y: x=3, y=4\n",
      "Argumentos adicionales: dict_values([2, 5, 10])\n"
     ]
    },
    {
     "data": {
      "text/plain": [
       "24"
      ]
     },
     "execution_count": 93,
     "metadata": {},
     "output_type": "execute_result"
    }
   ],
   "source": [
    "suma(3, 4, z = 2, m = 5, v = 10)"
   ]
  },
  {
   "cell_type": "markdown",
   "metadata": {},
   "source": [
    "## 4. Docstring\n",
    "Los *docstrings* son textos que contienen la documentación de las funciones. En algunas funciones de este notebook ya los hemos usado. Vemos algunos detalles y convenciones a la hora de escribirlos. Cualquier paquete o librería escrito en Python debería tener las funciones documentadas. Cuanto mejor estén, más fácil será usarlas.\n",
    "\n",
    "Nos debería dar información sobre los parámetros de entrada los de salida y qué operaciones realiza la función. Accedemos al *docstring* con `help`.  "
   ]
  },
  {
   "cell_type": "code",
   "execution_count": 94,
   "metadata": {},
   "outputs": [
    {
     "name": "stdout",
     "output_type": "stream",
     "text": [
      "Help on built-in function print in module builtins:\n",
      "\n",
      "print(...)\n",
      "    print(value, ..., sep=' ', end='\\n', file=sys.stdout, flush=False)\n",
      "    \n",
      "    Prints the values to a stream, or to sys.stdout by default.\n",
      "    Optional keyword arguments:\n",
      "    file:  a file-like object (stream); defaults to the current sys.stdout.\n",
      "    sep:   string inserted between values, default a space.\n",
      "    end:   string appended after the last value, default a newline.\n",
      "    flush: whether to forcibly flush the stream.\n",
      "\n"
     ]
    }
   ],
   "source": [
    "help(print)"
   ]
  },
  {
   "cell_type": "code",
   "execution_count": 95,
   "metadata": {},
   "outputs": [
    {
     "name": "stdout",
     "output_type": "stream",
     "text": [
      "Help on built-in function max in module builtins:\n",
      "\n",
      "max(...)\n",
      "    max(iterable, *[, default=obj, key=func]) -> value\n",
      "    max(arg1, arg2, *args, *[, key=func]) -> value\n",
      "    \n",
      "    With a single iterable argument, return its biggest item. The\n",
      "    default keyword-only argument specifies an object to return if\n",
      "    the provided iterable is empty.\n",
      "    With two or more arguments, return the largest argument.\n",
      "\n"
     ]
    }
   ],
   "source": [
    "help(max)"
   ]
  },
  {
   "cell_type": "code",
   "execution_count": 96,
   "metadata": {},
   "outputs": [
    {
     "name": "stdout",
     "output_type": "stream",
     "text": [
      "Help on function suma in module __main__:\n",
      "\n",
      "suma(x, y, **extra_arguments)\n",
      "\n"
     ]
    }
   ],
   "source": [
    "# ahora miro la función que he definido yo \n",
    "help(suma)"
   ]
  },
  {
   "cell_type": "code",
   "execution_count": 97,
   "metadata": {},
   "outputs": [],
   "source": [
    "def suma(x, y, *extra_arguments):\n",
    "    \"\"\" suma(x, y, **extra_arguments returns the sum of all given arguments \"\"\"\n",
    "    print(\"Argumentos obligatorios x e y: x={}, y={}\".format(x, y))\n",
    "    print(\"Argumentos adicionales: {}\".format(extra_arguments))\n",
    "    return x + y + sum(extra_arguments)"
   ]
  },
  {
   "cell_type": "code",
   "execution_count": 98,
   "metadata": {},
   "outputs": [
    {
     "name": "stdout",
     "output_type": "stream",
     "text": [
      "Help on function suma in module __main__:\n",
      "\n",
      "suma(x, y, *extra_arguments)\n",
      "    suma(x, y, **extra_arguments returns the sum of all given arguments\n",
      "\n"
     ]
    }
   ],
   "source": [
    "help(suma)"
   ]
  },
  {
   "cell_type": "markdown",
   "metadata": {},
   "source": [
    "El de arriba sería un ejemplo de +docstring* de una sola línea. Para funciones más complicadas se suelen usar más líneas con detalles de cada parámetro tanto de entrada como de salida, de los errores que devuelve, etc. \n",
    "\n",
    "Las convenciones sobre el uso de docstring en Python se encuentran descritas en [PEP-257](https://www.python.org/dev/peps/pep-0257/). Aunque hay varios formatos usados, podéis ver un resumen en este [post](https://stackoverflow.com/questions/3898572/what-is-the-standard-python-docstring-format). "
   ]
  },
  {
   "cell_type": "markdown",
   "metadata": {},
   "source": [
    "## 5. Módulos \n",
    "Cuando estamos escribiendo un programa puede que necesitemos definir varias funciones. Para que nos quede más ordenado se suelen escribir en un archivo a parte al que podemos acceder con `import`. Estos archivos se llaman módulos. Este archivo tendrá la extensión `.py`. "
   ]
  },
  {
   "cell_type": "code",
   "execution_count": 101,
   "metadata": {},
   "outputs": [],
   "source": [
    "import test"
   ]
  },
  {
   "cell_type": "code",
   "execution_count": 104,
   "metadata": {},
   "outputs": [
    {
     "data": {
      "text/plain": [
       "7"
      ]
     },
     "execution_count": 104,
     "metadata": {},
     "output_type": "execute_result"
    }
   ],
   "source": [
    "test.suma(3, 4)"
   ]
  },
  {
   "cell_type": "markdown",
   "metadata": {},
   "source": [
    "Un paquete es un conjunto de módulos y se cargan de la misma manera:"
   ]
  },
  {
   "cell_type": "code",
   "execution_count": 105,
   "metadata": {},
   "outputs": [
    {
     "data": {
      "text/plain": [
       "4.0"
      ]
     },
     "execution_count": 105,
     "metadata": {},
     "output_type": "execute_result"
    }
   ],
   "source": [
    "import numpy \n",
    "numpy.sqrt(16)"
   ]
  },
  {
   "cell_type": "code",
   "execution_count": null,
   "metadata": {},
   "outputs": [],
   "source": [
    "# como cada ve se tiene que escribir el nombre del módulo o paquete \n",
    "# se suelen renombrar al importar\n",
    "import numpy as np \n",
    "np.sqrt(16)"
   ]
  },
  {
   "cell_type": "code",
   "execution_count": 106,
   "metadata": {},
   "outputs": [
    {
     "data": {
      "text/plain": [
       "4.0"
      ]
     },
     "execution_count": 106,
     "metadata": {},
     "output_type": "execute_result"
    }
   ],
   "source": [
    "# también podemos cargar solo una función del paquete aunque es menos común\n",
    "from numpy import sqrt\n",
    "sqrt(16)"
   ]
  },
  {
   "cell_type": "markdown",
   "metadata": {},
   "source": [
    "## 6. Ejercicios para practicar\n",
    "Vemos algunos ejercicios para practicar lo que hemos dado en esta notebook. "
   ]
  },
  {
   "cell_type": "markdown",
   "metadata": {},
   "source": [
    "1.1. Definid una función que calcule el cuadrado de un número de parámetros cualquiera.\n",
    "\n",
    "1.2. Definid otra función que reciba como argumento la función anterior y un número de parámetros cualquiera, superior a 1, y que devuelva el resultado de sumar el resultado de aplicar la función que recibe como primer parámetro a cada uno de los otros parámetros.\n",
    "\n",
    "Por ejemplo, si la función recibe como parámetros opcionales 5 y 10 el resultado debería ser $ 5 ^ 2 + 10 ^ 2 = 125 $.\n",
    "\n",
    "1.3. Comprueba que es así en este caso y llámala otra vez con 5 argumentos."
   ]
  },
  {
   "cell_type": "code",
   "execution_count": 103,
   "metadata": {},
   "outputs": [],
   "source": [
    "# Escribe código"
   ]
  },
  {
   "cell_type": "markdown",
   "metadata": {},
   "source": [
    "2. Escribid una lista. Implementad una función que modifique la lista original. Haced una llamada a la función definida y mostrad que, efectivamente, la lista original se modifica."
   ]
  },
  {
   "cell_type": "code",
   "execution_count": null,
   "metadata": {},
   "outputs": [],
   "source": [
    "# Código"
   ]
  },
  {
   "cell_type": "markdown",
   "metadata": {},
   "source": [
    "3. Definid 4 funciones en un fichero .py, cargadlo y ejecutad todas las funciones. "
   ]
  },
  {
   "cell_type": "code",
   "execution_count": null,
   "metadata": {},
   "outputs": [],
   "source": [
    "# Código"
   ]
  }
 ],
 "metadata": {
  "kernelspec": {
   "display_name": "Python 2",
   "language": "python",
   "name": "python2"
  },
  "language_info": {
   "codemirror_mode": {
    "name": "ipython",
    "version": 3
   },
   "file_extension": ".py",
   "mimetype": "text/x-python",
   "name": "python",
   "nbconvert_exporter": "python",
   "pygments_lexer": "ipython3",
   "version": "3.7.7"
  }
 },
 "nbformat": 4,
 "nbformat_minor": 2
}
