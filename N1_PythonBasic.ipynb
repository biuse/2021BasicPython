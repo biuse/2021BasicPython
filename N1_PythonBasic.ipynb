{
 "cells": [
  {
   "cell_type": "markdown",
   "metadata": {},
   "source": [
    "# Python\n",
    "\n",
    "**Python** es un lenguaje simple, fácil de manejar, *open source* y que tiene una gran versatilidad. Ahora mismo es el lenguaje más usado en *data analysis*, hay muchísima documentación ([python.docs](https://docs.python.org/3/), dudas resueltas en [stackoverflow](https://stackoverflow.com) y otros). También podrás encontrar muchos paquetes compartidos gratuitamente. \n",
    "\n",
    "Aquí hacemos un pequeño resumen de las generalidades de **Python** y los tipos de estructuras básicos que hay. Al final os dejamos unos ejercicios para practicar. \n",
    "\n",
    "<ul style=\"list-style-type:none\">\n",
    "    <li><a href='#1.-Generalidades'>1. Generalidades</a></li>\n",
    "       <li><a href='#2.-Calculadora'>2. Calculadora</a></li>\n",
    "    <li><a href='#3.-Tipos-de-datos'>3. Tipos de datos</a></li>\n",
    "    <ul style=\"list-style-type:none\">\n",
    "        <li><a href=\"#3.1-Listas\">3.1. Listas</a></li>\n",
    "        <li><a href=\"#3.2-Tuplas\">3.2. Tuplas</a></li>\n",
    "        <li><a href=\"#3.3-Diccionarios\">3.3. Diccionarios </a></li>\n",
    "    </ul>\n",
    "    <li><a href=\"#4.-Ejercicios-para-practicar\">4. Ejercicios </a></li>\n",
    "    <ul style=\"list-style-type:none\">\n",
    "</ul>"
   ]
  },
  {
   "cell_type": "markdown",
   "metadata": {},
   "source": [
    "# 1. Generalidades\n",
    "\n",
    "Para escribir código en **Python** se puede hacer desde un archivo plano con extension .py, con una notebook o con un IDE (entorno de escritorio integrado).    \n",
    "\n",
    "## Uso de notebook\n",
    "     \n",
    "*  En cada celda daremos una o más órdenes\n",
    "*  Se ejecuta con Run. (o shift+enter)\n",
    "*  La siguiente celda recuerda las anteriores\n",
    "*  Si queremos una celda solo de texto (o imagen) cambiar tipo de celda (Cell/Markdown)\n",
    "*  Para instalar paquetes usaremos pip o pip3"
   ]
  },
  {
   "cell_type": "markdown",
   "metadata": {},
   "source": [
    "## Funciones definidas:\n",
    "Python tiene ciertas funciones ya definidas y las podemos llamar con el nombre de la funcion y parentesis (). \n",
    "Por ejemplo, la función `print` muestra por pantalla el mensaje que incluyamos como argumento.\n",
    "\n",
    "[Aquí](https://docs.python.org/3/library/functions.html) podéis ver la lista de funciones predecinidas (built-in functions) de Python. "
   ]
  },
  {
   "cell_type": "code",
   "execution_count": 96,
   "metadata": {},
   "outputs": [
    {
     "name": "stdout",
     "output_type": "stream",
     "text": [
      "Hola mundo\n"
     ]
    }
   ],
   "source": [
    "print(\"Hola mundo\")"
   ]
  },
  {
   "cell_type": "markdown",
   "metadata": {},
   "source": [
    "Sin embargo, en muchas ocasiones podemos conocer el nombre de una función pero no su funcionamiento o todas sus opciones y funcionalidades, para lo cual podemos escribir:"
   ]
  },
  {
   "cell_type": "code",
   "execution_count": 97,
   "metadata": {},
   "outputs": [
    {
     "name": "stdout",
     "output_type": "stream",
     "text": [
      "Help on built-in function print in module builtins:\n",
      "\n",
      "print(...)\n",
      "    print(value, ..., sep=' ', end='\\n', file=sys.stdout, flush=False)\n",
      "    \n",
      "    Prints the values to a stream, or to sys.stdout by default.\n",
      "    Optional keyword arguments:\n",
      "    file:  a file-like object (stream); defaults to the current sys.stdout.\n",
      "    sep:   string inserted between values, default a space.\n",
      "    end:   string appended after the last value, default a newline.\n",
      "    flush: whether to forcibly flush the stream.\n",
      "\n"
     ]
    }
   ],
   "source": [
    "help(\"print\")"
   ]
  },
  {
   "cell_type": "markdown",
   "metadata": {},
   "source": [
    "## Ejecución de líneas\n",
    "\n",
    "Las líneas se ejecutan en orden secuencial dentro de una celda. Si no queremos que se ejecute algun comentario usamos #. Todo lo que hay detrás de una almohadilla no se ejecuta. "
   ]
  },
  {
   "cell_type": "code",
   "execution_count": 1,
   "metadata": {},
   "outputs": [
    {
     "data": {
      "text/plain": [
       "8"
      ]
     },
     "execution_count": 1,
     "metadata": {},
     "output_type": "execute_result"
    }
   ],
   "source": [
    "# esto son pruebas\n",
    "5 + 3  # 4+5 "
   ]
  },
  {
   "cell_type": "markdown",
   "metadata": {},
   "source": [
    "Aunque se ejecutan todas las líneas de una celda, la notebook solos no muestra el resultado de la última línea de la celda."
   ]
  },
  {
   "cell_type": "code",
   "execution_count": 98,
   "metadata": {},
   "outputs": [
    {
     "data": {
      "text/plain": [
       "17"
      ]
     },
     "execution_count": 98,
     "metadata": {},
     "output_type": "execute_result"
    }
   ],
   "source": [
    "3 + 4 + 5\n",
    "8 * 3\n",
    "2 + 12 + 3"
   ]
  },
  {
   "cell_type": "markdown",
   "metadata": {},
   "source": [
    "Si lo queremos ver todo, usamos `print()`"
   ]
  },
  {
   "cell_type": "code",
   "execution_count": 99,
   "metadata": {},
   "outputs": [
    {
     "name": "stdout",
     "output_type": "stream",
     "text": [
      "12\n",
      "24\n",
      "17\n"
     ]
    }
   ],
   "source": [
    "print(3 + 4 + 5)\n",
    "print(8 * 3)\n",
    "print(2 + 12 + 3)"
   ]
  },
  {
   "cell_type": "markdown",
   "metadata": {},
   "source": [
    "## Errores: \n",
    "Si algo falla sale un error con explicación y la linea donde falló (otros lenguajes no dan tanta explicación)"
   ]
  },
  {
   "cell_type": "code",
   "execution_count": 1,
   "metadata": {},
   "outputs": [
    {
     "name": "stdout",
     "output_type": "stream",
     "text": [
      "8\n"
     ]
    },
    {
     "ename": "NameError",
     "evalue": "name 'pritn' is not defined",
     "output_type": "error",
     "traceback": [
      "\u001b[0;31m---------------------------------------------------------------------------\u001b[0m",
      "\u001b[0;31mNameError\u001b[0m                                 Traceback (most recent call last)",
      "\u001b[0;32m/var/folders/8n/8gxx65_52xq17qlkhphqy2hm0000gn/T/ipykernel_5802/1068275319.py\u001b[0m in \u001b[0;36m<module>\u001b[0;34m\u001b[0m\n\u001b[1;32m      1\u001b[0m \u001b[0mprint\u001b[0m\u001b[0;34m(\u001b[0m\u001b[0;36m5\u001b[0m \u001b[0;34m+\u001b[0m \u001b[0;36m3\u001b[0m\u001b[0;34m)\u001b[0m\u001b[0;34m\u001b[0m\u001b[0;34m\u001b[0m\u001b[0m\n\u001b[0;32m----> 2\u001b[0;31m \u001b[0mpritn\u001b[0m\u001b[0;34m(\u001b[0m\u001b[0;36m6\u001b[0m \u001b[0;34m*\u001b[0m \u001b[0;36m2\u001b[0m\u001b[0;34m)\u001b[0m \u001b[0;31m# Suma de dos numeros\u001b[0m\u001b[0;34m\u001b[0m\u001b[0;34m\u001b[0m\u001b[0m\n\u001b[0m",
      "\u001b[0;31mNameError\u001b[0m: name 'pritn' is not defined"
     ]
    }
   ],
   "source": [
    "print(5 + 3)\n",
    "pritn(6 * 2) # Suma de dos numeros"
   ]
  },
  {
   "cell_type": "markdown",
   "metadata": {},
   "source": [
    "## Estilo\n",
    "Como en cualquier otro lenguaje, es útil mantener el código lo más\n",
    "limpio posible, y programar de tal manera que sea facilmente leíble, \n",
    "e.g. sin lineas demasiado largas, ordenado, espaciado razonable,...\n",
    "Para ayudarnos en eso existe una guía de estilo aceptada por la comunidad: la PEP8, podéis ver las reglas [aquí](https://www.python.org/dev/peps/pep-0008/) con información como (identación, longitud de las líneas, espaciado, ... ). \n",
    "\n",
    "Existen paquetes que revisan el estil en la notebook como `pycodestyle` https://pypi.org/project/pycodestyle/, os lo podéis instalar y cargar al inicio de la notebook para revisión del estilo. \n",
    "\n",
    "Los IDE como Spyder o PyCharm también se puede revisar el estilo. "
   ]
  },
  {
   "cell_type": "markdown",
   "metadata": {},
   "source": [
    "# 2. Calculadora\n",
    "\n",
    "Podemos usar Python para hacer cálculos simples. Para cáclulos más complejos se tendrán que usar paquetes específicos como `math` o `numpy`."
   ]
  },
  {
   "cell_type": "code",
   "execution_count": 100,
   "metadata": {},
   "outputs": [
    {
     "data": {
      "text/plain": [
       "9"
      ]
     },
     "execution_count": 100,
     "metadata": {},
     "output_type": "execute_result"
    }
   ],
   "source": [
    "#Una simple suma\n",
    "print(3 + 5)\n",
    "# dividr / multplicar * exponente **, con print escribimos\n",
    "print(6 / 2)\n",
    "print(10 * 5)\n",
    "print(3 ** 2)"
   ]
  },
  {
   "cell_type": "code",
   "execution_count": 12,
   "metadata": {},
   "outputs": [
    {
     "data": {
      "text/plain": [
       "8"
      ]
     },
     "execution_count": 12,
     "metadata": {},
     "output_type": "execute_result"
    }
   ],
   "source": [
    "# definimos variable\n",
    "x = 5   # HASTA QUE NO DIGAMOS LO CONTRARIO x será 5\n",
    "y = 3\n",
    "x + y"
   ]
  },
  {
   "cell_type": "code",
   "execution_count": 26,
   "metadata": {},
   "outputs": [
    {
     "data": {
      "text/plain": [
       "8"
      ]
     },
     "execution_count": 26,
     "metadata": {},
     "output_type": "execute_result"
    }
   ],
   "source": [
    "# Lo podemos poner en línea separado por punto y coma. Sigue mostrando solo la última función\n",
    "x = 5; y = 3; x + y"
   ]
  },
  {
   "cell_type": "code",
   "execution_count": 13,
   "metadata": {},
   "outputs": [
    {
     "name": "stdout",
     "output_type": "stream",
     "text": [
      "5\n"
     ]
    }
   ],
   "source": [
    "# las celdas tienen memoria de las que se han ejecutado antes. \n",
    "print(x)"
   ]
  },
  {
   "cell_type": "code",
   "execution_count": null,
   "metadata": {},
   "outputs": [],
   "source": [
    "# podemos reescribir variable\n",
    "x = 2 * x  "
   ]
  },
  {
   "cell_type": "code",
   "execution_count": 14,
   "metadata": {},
   "outputs": [
    {
     "name": "stdout",
     "output_type": "stream",
     "text": [
      "8\n",
      "16\n"
     ]
    }
   ],
   "source": [
    "# guardar las cosas en variables es muy útil para hacer operaciones más largas, no tengo que escribir \n",
    "# cada vez todos los valores\n",
    "y = 3\n",
    "c = x + y\n",
    "a = c + x + y\n",
    "print(c)\n",
    "print(a)"
   ]
  },
  {
   "cell_type": "code",
   "execution_count": 1,
   "metadata": {},
   "outputs": [
    {
     "name": "stdout",
     "output_type": "stream",
     "text": [
      "la suma de x e y es igual a 8\n",
      "la resta de x e y es igual a 2\n"
     ]
    }
   ],
   "source": [
    "# si quiero poner texto entre ''\n",
    "x = 5\n",
    "y = 3\n",
    "print('la suma de x e y es igual a', x + y)\n",
    "print('la resta de x e y es igual a', x - y)"
   ]
  },
  {
   "cell_type": "markdown",
   "metadata": {},
   "source": [
    "Podemos integrar variables en el texto de maner elegante usando format. Podéis ver más información [aquí](https://docs.python.org/es/3/tutorial/inputoutput.html)"
   ]
  },
  {
   "cell_type": "code",
   "execution_count": 95,
   "metadata": {},
   "outputs": [
    {
     "name": "stdout",
     "output_type": "stream",
     "text": [
      "My name is Biuse and I'm 43 years old\n"
     ]
    }
   ],
   "source": [
    "\n",
    "fname = 'Biuse'\n",
    "age = 43\n",
    "print(\"My name is {} and I'm {} years old\".format(fname, age))"
   ]
  },
  {
   "cell_type": "markdown",
   "metadata": {},
   "source": [
    "# 3. Tipos de datos\n",
    "Hay distintas estructuras para guardar datos en Pyhton. Las más comunes son: \n",
    "\n",
    "\n",
    "*Text Type:*\tstr\n",
    "\n",
    "*Numeric Types:*\tint, float, complex\n",
    "\n",
    "*Boolean Type:* True or False\n",
    "\n",
    "*Sequence Types:*\tlist, tuple\n",
    "\n",
    "*Mapping Type:*\tdict\n",
    "\n",
    "\n",
    "Luego hay paquetes que tienen sus propios tipos como cuando trabajamos con vectores, ej. `numpy.array`, `pd.DataFrame`."
   ]
  },
  {
   "cell_type": "code",
   "execution_count": 4,
   "metadata": {},
   "outputs": [],
   "source": [
    "# Se puede definit el tipo o bien la variable toma el tipo directamente dependiendo del valor que se le da\n",
    "\n",
    "# strings se ponene entre comillas \n",
    "\n",
    "z = 'rojo'\n",
    "x = 1 \n",
    "y = 1.56 "
   ]
  },
  {
   "cell_type": "code",
   "execution_count": 5,
   "metadata": {},
   "outputs": [
    {
     "name": "stdout",
     "output_type": "stream",
     "text": [
      "<class 'int'>\n",
      "<class 'float'>\n",
      "<class 'str'>\n"
     ]
    }
   ],
   "source": [
    "print(type(x))\n",
    "print(type(y))\n",
    "print(type(z))"
   ]
  },
  {
   "cell_type": "code",
   "execution_count": 15,
   "metadata": {},
   "outputs": [
    {
     "data": {
      "text/plain": [
       "3"
      ]
     },
     "execution_count": 15,
     "metadata": {},
     "output_type": "execute_result"
    }
   ],
   "source": [
    "# podemos operar \n",
    "2 + x"
   ]
  },
  {
   "cell_type": "code",
   "execution_count": 18,
   "metadata": {},
   "outputs": [
    {
     "data": {
      "text/plain": [
       "'o'"
      ]
     },
     "execution_count": 18,
     "metadata": {},
     "output_type": "execute_result"
    }
   ],
   "source": [
    "# en strings también tenemos ciertas operaciones\n",
    "print(2*z)\n",
    "print(z[-1]) # acceso a cada uno de las carácteres"
   ]
  },
  {
   "cell_type": "code",
   "execution_count": 13,
   "metadata": {},
   "outputs": [
    {
     "name": "stdout",
     "output_type": "stream",
     "text": [
      "1\n",
      "1.0\n",
      "1\n"
     ]
    }
   ],
   "source": [
    "# podemos pasar de una variable a otra\n",
    "print(str(x))\n",
    "print(float(x))\n",
    "print(int(y))"
   ]
  },
  {
   "cell_type": "code",
   "execution_count": 14,
   "metadata": {},
   "outputs": [
    {
     "ename": "ValueError",
     "evalue": "invalid literal for int() with base 10: 'rojo'",
     "output_type": "error",
     "traceback": [
      "\u001b[0;31m---------------------------------------------------------------------------\u001b[0m",
      "\u001b[0;31mValueError\u001b[0m                                Traceback (most recent call last)",
      "\u001b[0;32m<ipython-input-14-f49722f2fd08>\u001b[0m in \u001b[0;36m<module>\u001b[0;34m\u001b[0m\n\u001b[1;32m      1\u001b[0m \u001b[0;31m# aunque no siempre\u001b[0m\u001b[0;34m\u001b[0m\u001b[0;34m\u001b[0m\u001b[0;34m\u001b[0m\u001b[0m\n\u001b[0;32m----> 2\u001b[0;31m \u001b[0mint\u001b[0m\u001b[0;34m(\u001b[0m\u001b[0mz\u001b[0m\u001b[0;34m)\u001b[0m\u001b[0;34m\u001b[0m\u001b[0;34m\u001b[0m\u001b[0m\n\u001b[0m",
      "\u001b[0;31mValueError\u001b[0m: invalid literal for int() with base 10: 'rojo'"
     ]
    }
   ],
   "source": [
    "# aunque no siempre\n",
    "int(z)"
   ]
  },
  {
   "cell_type": "code",
   "execution_count": 104,
   "metadata": {},
   "outputs": [
    {
     "name": "stdout",
     "output_type": "stream",
     "text": [
      "True\n",
      "False\n"
     ]
    }
   ],
   "source": [
    "# variables lógicas\n",
    "x = 3 \n",
    "y = 4 > x\n",
    "print(y)\n",
    "\n",
    "z = 1.5 > x\n",
    "print(z)\n",
    "\n",
    "# y, z son variables lógicas, que serán útiles para establecer condiciones"
   ]
  },
  {
   "cell_type": "markdown",
   "metadata": {},
   "source": [
    "## 3.1 Listas\n",
    "\n",
    "Las listas son una estrucutra para guardar valores ordenadamente, pueden ser heterogeneas y mutables (se pueden cambiar sus valores). Los elementos están indexados dels el 0 al -1. \n"
   ]
  },
  {
   "cell_type": "code",
   "execution_count": 94,
   "metadata": {},
   "outputs": [
    {
     "name": "stdout",
     "output_type": "stream",
     "text": [
      "The list is:\n",
      "\t[1, 1, 3.5, 'algun string', [None, 4]]\n"
     ]
    }
   ],
   "source": [
    "# las listas se escriben entre corchetes\n",
    "\n",
    "lista = []  # lista vacía\n",
    "\n",
    "\n",
    "l = [4, 2, 3] # lista con valores\n",
    "\n",
    "\n",
    "a_list = [1, 1, 3.5, \"algun string\", [None, 4]] # lista hereogenea ser heterogeneas \n",
    "\n",
    "print(\"The list is:\\n\\t{}\".format(a_list))\n"
   ]
  },
  {
   "cell_type": "markdown",
   "metadata": {},
   "source": [
    "Una lista es una estructura mutable, es decir su contenido se puede cambiar. Para eso hay varios métodos implementados para listas, podéis verlos todos [aquí](https://docs.python.org/3/tutorial/datastructures.html#more-on-lists)). Podemos añadir elementos de una lista al final con `append`, en cualquier posición con `insert`. También podemos eliminar elemetnod de una lista a partir de su posición con `pop` o a partir de su valor con `remove`. Se concatenana listas con `extend` o con el operadir suma `+`."
   ]
  },
  {
   "cell_type": "code",
   "execution_count": 56,
   "metadata": {},
   "outputs": [
    {
     "name": "stdout",
     "output_type": "stream",
     "text": [
      "After appending 'casa':\n",
      "\t[1, 1, 3.5, 'algun string', [None, 4], 'casa']\n",
      "After inserting -1:\n",
      "\t[[2, 1], 1, 1, 3.5, 'algun string', [None, 4], 'casa']\n",
      "After removing the first element:\n",
      "\t[1, 1, 3.5, 'algun string', [None, 4], 'casa']\n",
      "After removing 'algun string':\n",
      "\t[1, 1, 3.5, [None, 4], 'casa']\n",
      "After concatenating lists:\n",
      "\t[1, 1, 3.5, [None, 4], 'casa', 4, 2, 3]\n"
     ]
    }
   ],
   "source": [
    "# Añadirmos un valor al final de la lista\n",
    "a_list.append('casa')\n",
    "print(\"After appending 'casa':\\n\\t{}\".format(a_list))\n",
    "\n",
    "# Añadimos el elemento [2,1] al inicio de la lista\n",
    "a_list.insert(0, [2,1])\n",
    "print(\"After inserting -1:\\n\\t{}\".format(a_list))\n",
    "\n",
    "# Eliminamos el primer elemento\n",
    "a_list.pop(0)\n",
    "print(\"After removing the first element:\\n\\t{}\".format(a_list))\n",
    "\n",
    "# Eliminem el elemento \"algun string\"\n",
    "a_list.remove(\"algun string\")\n",
    "print(\"After removing 'algun string':\\n\\t{}\".format(a_list))\n",
    "\n",
    "# Concatenamos la lista con la lista l definida anteriormente\n",
    "a_list = a_list + l\n",
    "print(\"After concatenating lists:\\n\\t{}\".format(a_list))"
   ]
  },
  {
   "cell_type": "markdown",
   "metadata": {},
   "source": [
    "Otras funcionalidades de lista son contar los\n",
    "c = a_list.count(1)\n",
    "print(\"The number of 1s is:\\n\\t{}\".format(c))"
   ]
  },
  {
   "cell_type": "code",
   "execution_count": 58,
   "metadata": {},
   "outputs": [
    {
     "name": "stdout",
     "output_type": "stream",
     "text": [
      "The number of 1s is:\n",
      "\t2\n"
     ]
    }
   ],
   "source": [
    "# También podemos contar cuantas veces sale un elemento, por ejemplo el 1\n",
    "c = a_list.count(1)\n",
    "print(\"The number of 1s is:\\n\\t{}\".format(c))"
   ]
  },
  {
   "cell_type": "code",
   "execution_count": 114,
   "metadata": {},
   "outputs": [
    {
     "name": "stdout",
     "output_type": "stream",
     "text": [
      "['madrid', 'barcelona', 'santander']\n",
      "['santander', 'bilbao']\n",
      "['madrid', 'barcelona', 'santander', 'bilbao', 'valencia']\n",
      "['madrid', 'santander', 'valencia']\n"
     ]
    }
   ],
   "source": [
    "# List slicing\n",
    "lista = ['madrid', 'barcelona', 'santander', 'bilbao', 'valencia']\n",
    "print(lista[0:3]) # también se puede poner como lista[:3] \n",
    "print(lista[2:4])\n",
    "print(lista[0:5])\n",
    "print(lista[0:5:2])"
   ]
  },
  {
   "cell_type": "markdown",
   "metadata": {},
   "source": [
    "También podemos ver si algún elemento está en la lista usando variables lógicas"
   ]
  },
  {
   "cell_type": "code",
   "execution_count": 115,
   "metadata": {},
   "outputs": [
    {
     "data": {
      "text/plain": [
       "True"
      ]
     },
     "execution_count": 115,
     "metadata": {},
     "output_type": "execute_result"
    }
   ],
   "source": [
    "'madrid' in lista\n",
    "#'roma' in lista"
   ]
  },
  {
   "cell_type": "markdown",
   "metadata": {},
   "source": [
    "## 3.2 Tuplas\n",
    "Las tuplas son agrupaciones ordenadas de elementos, pero son immutables. No podemos modificar sus elementos, ni eliminar ni añadir. Son más eficientes computacionalmente (iteraciones más rápidas, consumen menos memoria y menos suscepitble a errores) pero es poco flexible para operar y tiene pocas métodos asociados. "
   ]
  },
  {
   "cell_type": "code",
   "execution_count": 75,
   "metadata": {},
   "outputs": [
    {
     "name": "stdout",
     "output_type": "stream",
     "text": [
      "The tuple is:\n",
      "\t(1, 1, 3.5, 'algun string', [None, 4])\n",
      "The tuple is:\n",
      "\t(1, 1, 3.5, 'algun string', [None, 4])\n",
      "Are they equal:\n",
      "\tTrue\n",
      "First element is:\n",
      "\t1\n",
      "Second element is:\n",
      "\t1\n",
      "Third element is:\n",
      "\t3.5\n"
     ]
    }
   ],
   "source": [
    "# Se define usando paréntesis\n",
    "\n",
    "a_tuple = ()\n",
    "\n",
    "a_tuple = (1, 1, 3.5, \"algun string\", [None, 4])\n",
    "print(\"The tuple is:\\n\\t{}\".format(a_tuple))\n",
    "\n",
    "# También se pueden omitir los paréntesis pero es menos usual\n",
    "the_same_tuple = 1, 1, 3.5, \"algun string\", [None, 4]\n",
    "print(\"The tuple is:\\n\\t{}\".format(the_same_tuple))\n",
    "\n",
    "print(\"Are they equal:\\n\\t{}\".format(a_tuple == the_same_tuple))\n",
    "\n",
    "# accedemos con los mismos indices:\n",
    "print(\"First element is:\\n\\t{}\".format(a_tuple[0]))\n",
    "print(\"Second element is:\\n\\t{}\".format(a_tuple[1]))\n",
    "print(\"Third element is:\\n\\t{}\".format(a_tuple[2]))"
   ]
  },
  {
   "cell_type": "code",
   "execution_count": 76,
   "metadata": {},
   "outputs": [
    {
     "ename": "TypeError",
     "evalue": "'tuple' object does not support item assignment",
     "output_type": "error",
     "traceback": [
      "\u001b[0;31m---------------------------------------------------------------------------\u001b[0m",
      "\u001b[0;31mTypeError\u001b[0m                                 Traceback (most recent call last)",
      "\u001b[0;32m<ipython-input-76-f74dd6079aeb>\u001b[0m in \u001b[0;36m<module>\u001b[0;34m\u001b[0m\n\u001b[1;32m      1\u001b[0m \u001b[0;31m# pero no podemos modificar elementos:\u001b[0m\u001b[0;34m\u001b[0m\u001b[0;34m\u001b[0m\u001b[0;34m\u001b[0m\u001b[0m\n\u001b[1;32m      2\u001b[0m \u001b[0;34m\u001b[0m\u001b[0m\n\u001b[0;32m----> 3\u001b[0;31m \u001b[0ma_tuple\u001b[0m\u001b[0;34m[\u001b[0m\u001b[0;36m0\u001b[0m\u001b[0;34m]\u001b[0m \u001b[0;34m=\u001b[0m \u001b[0;36m2\u001b[0m\u001b[0;34m\u001b[0m\u001b[0;34m\u001b[0m\u001b[0m\n\u001b[0m",
      "\u001b[0;31mTypeError\u001b[0m: 'tuple' object does not support item assignment"
     ]
    }
   ],
   "source": [
    "# pero no podemos modificar elementos:\n",
    "\n",
    "a_tuple[0] = 2"
   ]
  },
  {
   "cell_type": "code",
   "execution_count": 77,
   "metadata": {},
   "outputs": [
    {
     "name": "stdout",
     "output_type": "stream",
     "text": [
      "[2, 1, 3.5, 'algun string', [None, 4]]\n"
     ]
    }
   ],
   "source": [
    "# mientras que en la lista si\n",
    "\n",
    "a_list[0] = 2\n",
    "print(a_list)"
   ]
  },
  {
   "cell_type": "markdown",
   "metadata": {},
   "source": [
    "## 3.3 Diccionarios\n",
    "Los diccionarios en Python son colecciones sin orden y sin elementos duplicados. \n",
    "\n",
    "Son colecciones con parejas valor-clave. Las claves solo pueden aparecer una única vez y tienen un valor asociado. Son mutables con sus correspondientes operaciones básicas ya implementadas. \n"
   ]
  },
  {
   "cell_type": "code",
   "execution_count": 78,
   "metadata": {},
   "outputs": [
    {
     "data": {
      "text/plain": [
       "{'a': 0, 'b': 1, 'c': 2}"
      ]
     },
     "execution_count": 78,
     "metadata": {},
     "output_type": "execute_result"
    }
   ],
   "source": [
    "# se definen con llaves {}\n",
    "# Creamos un diccionario\n",
    "dict_0 = {\"a\": 0, \"b\": 1, \"c\": 2}\n",
    "dict_0"
   ]
  },
  {
   "cell_type": "code",
   "execution_count": 79,
   "metadata": {},
   "outputs": [
    {
     "data": {
      "text/plain": [
       "{'a': 2, 'b': 1}"
      ]
     },
     "execution_count": 79,
     "metadata": {},
     "output_type": "execute_result"
    }
   ],
   "source": [
    "# Intentamos crear uno con clave repetida\n",
    "dict_0 = {\"a\": 0, \"b\": 1, \"a\": 2}\n",
    "# El diccionario tiene una única clave a:\n",
    "dict_0"
   ]
  },
  {
   "cell_type": "markdown",
   "metadata": {},
   "source": [
    "Vemos aquí como acceder a elementos, añadirlos y eliminarlos. Para ver en detalle todos los métodos implementados para diccionarios podéis verlo [aquí](https://docs.python.org/3.8/library/stdtypes.html#dict))"
   ]
  },
  {
   "cell_type": "code",
   "execution_count": 105,
   "metadata": {},
   "outputs": [
    {
     "name": "stdout",
     "output_type": "stream",
     "text": [
      "Tha value in a is:\n",
      "\t0\n",
      "After adding d, dict_0 is:\n",
      "\t{'a': 0, 'b': 1, 'c': 2, 'd': 40}\n",
      "After updating a, dict_0 is:\n",
      "\t{'a': -5, 'b': 1, 'c': 2, 'd': 40}\n",
      "After deleting b, dict_0 is:\n",
      "\t{'a': -5, 'c': 2, 'd': 40}\n"
     ]
    }
   ],
   "source": [
    "dict_0 = {\"a\": 0, \"b\": 1, \"c\": 2}\n",
    "\n",
    "# accedemos al valor de la clave a\n",
    "print(\"Tha value in a is:\\n\\t{}\".format(dict_0[\"a\"]))\n",
    "\n",
    "# Añadimos elemento con llave d y valor 40\n",
    "dict_0[\"d\"] = 40\n",
    "print(\"After adding d, dict_0 is:\\n\\t{}\".format(dict_0))\n",
    "\n",
    "# Actualizamos uno de los elementos ya definimos:\n",
    "dict_0['a'] = -5\n",
    "print(\"After updating a, dict_0 is:\\n\\t{}\".format(dict_0))\n",
    "\n",
    "# Eliminamos un elemento de dict_0\n",
    "del dict_0['b']\n",
    "print(\"After deleting b, dict_0 is:\\n\\t{}\".format(dict_0))"
   ]
  },
  {
   "cell_type": "markdown",
   "metadata": {},
   "source": [
    "Podemos recuperar todas las claves de un diccionari con `keys`, los valores con `values`y ambos con `items`:"
   ]
  },
  {
   "cell_type": "code",
   "execution_count": 82,
   "metadata": {},
   "outputs": [
    {
     "name": "stdout",
     "output_type": "stream",
     "text": [
      "dict_0 keys are:\n",
      "\tdict_keys(['a', 'c', 'd'])\n",
      "dict_0 values are:\n",
      "\tdict_values([-5, 2, 40])\n",
      "dict_0 items are:\n",
      "\tdict_items([('a', -5), ('c', 2), ('d', 40)])\n"
     ]
    }
   ],
   "source": [
    "print(\"dict_0 keys are:\\n\\t{}\".format(dict_0.keys()))\n",
    "\n",
    "print(\"dict_0 values are:\\n\\t{}\".format(dict_0.values()))\n",
    "\n",
    "print(\"dict_0 items are:\\n\\t{}\".format(dict_0.items()))"
   ]
  },
  {
   "cell_type": "code",
   "execution_count": 83,
   "metadata": {},
   "outputs": [
    {
     "name": "stdout",
     "output_type": "stream",
     "text": [
      "True\n"
     ]
    }
   ],
   "source": [
    "# los diccionarios no tienen orden\n",
    "dict_1 = {\"a\": 0, \"b\": 1, \"c\": 2}\n",
    "dict_2 = {\"b\": 1, \"a\": 0, \"c\": 2}\n",
    "# dict_1 y dict_2 son iguales\n",
    "print(dict_1 == dict_2)"
   ]
  },
  {
   "cell_type": "code",
   "execution_count": 118,
   "metadata": {},
   "outputs": [],
   "source": [
    "#Los valores de un diccionario pueden ser listas u otros tipo de estructura\n",
    "\n",
    "dict_0 = {\"a\": [1, 3, 12] , \"b\": [4, 10, 12], \"c\": [3,4]}"
   ]
  },
  {
   "cell_type": "markdown",
   "metadata": {},
   "source": [
    "Tanto los diccionarios, como las listas o las tuplas con objetos iterables en Python. Un objeto **iterable** es aquel que podemos recorrer hasta que no quedan más elementos. "
   ]
  },
  {
   "cell_type": "markdown",
   "metadata": {},
   "source": [
    "# 4. Ejercicios para practicar\n",
    "Os dejamos aquí unos cuantos ejercicios, se pueden hacer con lo que acabamos de ver y/o mirando los links que se dan en este notebook. \n"
   ]
  },
  {
   "cell_type": "markdown",
   "metadata": {},
   "source": [
    "1.1 Escribe un diccionario con 5 ciudades y su número de habitantes \n",
    "\n",
    "\n",
    "1.2 Añade dos ciudades más \n",
    "\n",
    "1.3 Muestra sólo las ciudades del diccionario. "
   ]
  },
  {
   "cell_type": "code",
   "execution_count": null,
   "metadata": {},
   "outputs": [],
   "source": [
    "# escribe el código"
   ]
  },
  {
   "cell_type": "markdown",
   "metadata": {},
   "source": [
    "2. Concatena los siguientes diccionarios, muestra las claves y los valores por separado"
   ]
  },
  {
   "cell_type": "code",
   "execution_count": 84,
   "metadata": {},
   "outputs": [],
   "source": [
    "dic1 = {1 : 10, 2 : 20}\n",
    "dic2 = {3 : 30, 4 : 40}\n",
    "dic3 = {5 : 50, 6 : 60}\n",
    "\n",
    "# concatena el diccionario"
   ]
  },
  {
   "cell_type": "markdown",
   "metadata": {},
   "source": [
    "3. Opera en la lista_1 para obtener lista_2\n"
   ]
  },
  {
   "cell_type": "code",
   "execution_count": null,
   "metadata": {},
   "outputs": [],
   "source": [
    "lista_1 = ['Rojo', 'Verde', 'Blanco', 'Rosa', 'Amarillo']\n",
    "lista_2 = ['Verde', 'Blanco', 'Negro']\n",
    "\n",
    "# escribe el código"
   ]
  },
  {
   "cell_type": "markdown",
   "metadata": {},
   "source": [
    "4. Tienes los siguientes diccionarios:\n"
   ]
  },
  {
   "cell_type": "code",
   "execution_count": 91,
   "metadata": {},
   "outputs": [],
   "source": [
    "maria = { \n",
    "    'nombre' : 'Maria',\n",
    "    'tareas' : [9.3, 7.8, 6.9],\n",
    "    'examenes' : [8.4, 7.2],\n",
    "    'tests' : [8.4, 7.9, 8.3, 7.5]\n",
    "}\n",
    "\n",
    "juan = { \n",
    "    'nombre' : 'Juan',\n",
    "    'tareas' : [6.4, 2.5, 4.9],\n",
    "    'examenes' : [5.4, 5.3],\n",
    "    'tests' : [6.0, 7.0, 5.4, 6.3]\n",
    "}\n",
    "\n",
    "elsa = { \n",
    "    'nombre' : 'Elsa',\n",
    "    'tareas' : [9.0, 9.5, 8.4],\n",
    "    'examenes' : [9.2, 7.5],\n",
    "    'tests' : [8.2, 7.3, 6.4, 6.3]\n",
    "}"
   ]
  },
  {
   "cell_type": "markdown",
   "metadata": {},
   "source": [
    "Haz una lista llamada `estudiantes` con estos 3 diccionarios. Calcula la media de la nota de las tareas, examanes y tests de cada estudiante y la media global (la media de las 3 notas). Escríbelo en dos líneas usando format(). \n",
    "\n",
    "Ejemplo:\n",
    "\n",
    "Notas medias de Sara, 2.8 en tareas, 5.4 en exámenes y 6.3 en tests. \n",
    "Media total: 4.83"
   ]
  },
  {
   "cell_type": "code",
   "execution_count": null,
   "metadata": {},
   "outputs": [],
   "source": [
    "# escribe el código"
   ]
  }
 ],
 "metadata": {
  "kernelspec": {
   "display_name": "Python 3 (ipykernel)",
   "language": "python",
   "name": "python3"
  },
  "language_info": {
   "codemirror_mode": {
    "name": "ipython",
    "version": 3
   },
   "file_extension": ".py",
   "mimetype": "text/x-python",
   "name": "python",
   "nbconvert_exporter": "python",
   "pygments_lexer": "ipython3",
   "version": "3.8.2"
  }
 },
 "nbformat": 4,
 "nbformat_minor": 2
}
