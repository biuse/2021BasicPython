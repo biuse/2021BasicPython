{
 "cells": [
  {
   "cell_type": "markdown",
   "metadata": {},
   "source": [
    "# Funciones y estructuras de control de flujo\n",
    "Aquí damos unas pinceladas de como son las estructuras de control de flujo en **Python** y como podemos definir funciones. Las estructuras de control de ejecución gestionan como se va ejecutando el programa.  En esta notebook veremos: \n",
    "\n",
    "<ul style=\"list-style-type:none\">\n",
    "    <li><a href='#1.-Condicionales'>1. Estructuras de control de flujo condicionales</a></li>\n",
    "    <li><a href='#2.-Iterativas'>2. Estructuras de control de flujo iterativas</a></li>\n",
    "    <ul style=\"list-style-type:none\">\n",
    "        <li><a href=\"#2.1-List-and-dict-comprehensions\">3.1. List and dict comprehensions</a></li>\n",
    "    </ul>\n",
    "    <li><a href=\"#3.-Funciones\">3. Funciones </a></li>\n",
    "    <li><a href=\"#4.-Ejercicios-para-practicar\">4. Ejercicios </a></li>\n",
    "    <ul style=\"list-style-type:none\">\n",
    "</ul>"
   ]
  },
  {
   "cell_type": "code",
   "execution_count": 2,
   "metadata": {},
   "outputs": [
    {
     "name": "stdout",
     "output_type": "stream",
     "text": [
      "10\n"
     ]
    }
   ],
   "source": []
  },
  {
   "cell_type": "markdown",
   "metadata": {},
   "source": [
    "Si no decimos nada, el programa se ejecuta secuencialmente línea a linea (en una notebook en orden de celda ejecutada). Pero hay instrucciones que podemos dar para que no ejecute alguna parte o que repita algunas secuencias."
   ]
  },
  {
   "cell_type": "code",
   "execution_count": 1,
   "metadata": {},
   "outputs": [
    {
     "name": "stdout",
     "output_type": "stream",
     "text": [
      "10\n"
     ]
    }
   ],
   "source": [
    "x = 2\n",
    "y = 3 + x\n",
    "z = y * 2\n",
    "print(z)"
   ]
  },
  {
   "cell_type": "markdown",
   "metadata": {},
   "source": [
    "# 1. Condicionales\n",
    "La instrucción [`if`](https://docs.python.org/3.8/tutorial/controlflow.html#if-statements) nos permite ejecutar un bloque de código si se cumple una determina condición. Si no se cumple, esa parte no se ejecuta y el código se sigue ejecutando desde la siguiente línea con la misma \"indentación\". Allí pueden haber otras condiciones con las cláusulas opcionales `else` o `elif`.\n"
   ]
  },
  {
   "cell_type": "code",
   "execution_count": 19,
   "metadata": {},
   "outputs": [
    {
     "name": "stdout",
     "output_type": "stream",
     "text": [
      "z = 10\n"
     ]
    }
   ],
   "source": [
    "x = 2\n",
    "y = 3 + x\n",
    "\n",
    "if y > 0:\n",
    "    z = y * 2 \n",
    "    print(\"z =\", z)"
   ]
  },
  {
   "cell_type": "code",
   "execution_count": 20,
   "metadata": {},
   "outputs": [],
   "source": [
    "x = -10\n",
    "y = 3 + x\n",
    "\n",
    "if y > 0:\n",
    "    z = y * 2 \n",
    "    print(\"z =\", z)"
   ]
  },
  {
   "cell_type": "markdown",
   "metadata": {},
   "source": [
    "O podemos usar `else` o `elif` para que ejecute otra parte del código si no se cumple la condición"
   ]
  },
  {
   "cell_type": "code",
   "execution_count": 21,
   "metadata": {},
   "outputs": [
    {
     "name": "stdout",
     "output_type": "stream",
     "text": [
      "y es negativa, no hacemos cálculos\n"
     ]
    }
   ],
   "source": [
    "x = -10\n",
    "y = 3 + x\n",
    "\n",
    "if y > 0:\n",
    "    z = y * 2 \n",
    "    print(\"z = \", z)\n",
    "else:\n",
    "    print('y es negativa, no hacemos cálculos')"
   ]
  },
  {
   "cell_type": "code",
   "execution_count": 22,
   "metadata": {},
   "outputs": [
    {
     "name": "stdout",
     "output_type": "stream",
     "text": [
      "z = 0\n"
     ]
    }
   ],
   "source": [
    "x = -3\n",
    "y = 3 + x\n",
    "\n",
    "if y > 0:\n",
    "    z = y * 2 \n",
    "    print(\"z =\", z)\n",
    "elif y == 0:\n",
    "    z = 0\n",
    "    print(\"z =\",z )\n",
    "else:\n",
    "    print('y es negativa, no hacemos cálculos')"
   ]
  },
  {
   "cell_type": "markdown",
   "metadata": {},
   "source": [
    "Las condiciones pueden ser lo complejas que queramos: eg. matemáticas if x < 3, más de una condición if x < 3, con variables lógicas True o False. Añadimos algo de complejidad al ejemplo anterior: "
   ]
  },
  {
   "cell_type": "code",
   "execution_count": 23,
   "metadata": {},
   "outputs": [
    {
     "name": "stdout",
     "output_type": "stream",
     "text": [
      "z = 0\n"
     ]
    }
   ],
   "source": [
    "x = -3\n",
    "y = 3 + x\n",
    "\n",
    "if y > 0 or y == 0:\n",
    "    z = y * 2 \n",
    "    print(\"z =\", z)\n",
    "else:\n",
    "    print('y es negativa, no hacemos cálculos')"
   ]
  },
  {
   "cell_type": "markdown",
   "metadata": {},
   "source": [
    "Para variables lógicas: \n",
    "\n",
    "`if not bool:`\n",
    "\n",
    "es equivalente a \n",
    "\n",
    "`if y == bool:`\n",
    "    \n",
    "Así como\n",
    "\n",
    "`if bool:`\n",
    "\n",
    "es equivalente a \n",
    "\n",
    "`if y == bool`\n",
    "\n",
    "ponemos las primeras opciones porque es la recomendación de la guía de estilo PEP8"
   ]
  },
  {
   "cell_type": "markdown",
   "metadata": {},
   "source": [
    "# 2. Iterativas\n",
    "Las secuencias de control iterativas (*loops* en inglés) nos permiten repetir un trozo de código un número determinado de veces (`for`) o cuando se cumple una condición (`while` y `for`). Vemos unos ejemplos"
   ]
  },
  {
   "cell_type": "markdown",
   "metadata": {},
   "source": [
    "* while"
   ]
  },
  {
   "cell_type": "code",
   "execution_count": 31,
   "metadata": {},
   "outputs": [
    {
     "name": "stdout",
     "output_type": "stream",
     "text": [
      "y = 26, z = 13\n",
      "y = 24, z = 12\n",
      "y = 22, z = 11\n",
      "y = 20, z = 10\n",
      "y = 18, z = 9\n",
      "y = 16, z = 8\n",
      "y = 14, z = 7\n",
      "y = 12, z = 6\n",
      "y = 10, z = 5\n",
      "y = 8, z = 4\n",
      "y = 6, z = 3\n",
      "y = 4, z = 2\n",
      "y = 2, z = 1\n",
      "Salimos del bucle por y = 0\n"
     ]
    }
   ],
   "source": [
    "# while. Usando el ejemplo anterior no cruzamos mientras el semaforo no esté en verde\n",
    "\n",
    "x = 10\n",
    "y = 3 + x\n",
    "\n",
    "while y > 0:\n",
    "    if y > 0 or y == 0:\n",
    "        z = y * 2 \n",
    "        print(\"y = {}, z = {}\".format(z,y))\n",
    "        y = y - 1\n",
    "\n",
    "print('Salimos del bucle por y =', y)"
   ]
  },
  {
   "cell_type": "code",
   "execution_count": 32,
   "metadata": {},
   "outputs": [
    {
     "name": "stdout",
     "output_type": "stream",
     "text": [
      "La suma de los 100 primeros numeros naturales es 5050\n",
      "\n"
     ]
    }
   ],
   "source": [
    "N = 100\n",
    "contador = 0\n",
    "suma = 0\n",
    "while contador <= N:\n",
    "    suma = suma + contador\n",
    "    contador = contador + 1\n",
    "print('La suma de los %d primeros numeros naturales es %d\\n' % (N,suma))"
   ]
  },
  {
   "cell_type": "markdown",
   "metadata": {},
   "source": [
    "* for"
   ]
  },
  {
   "cell_type": "code",
   "execution_count": 36,
   "metadata": {},
   "outputs": [
    {
     "name": "stdout",
     "output_type": "stream",
     "text": [
      "0\n",
      "1\n",
      "2\n",
      "3\n",
      "4\n"
     ]
    }
   ],
   "source": [
    "# for itera tantas veces como le digamos,  desde 0 a N de uno en uno\n",
    "N = 5\n",
    "for i in range(N):\n",
    "    print(i)"
   ]
  },
  {
   "cell_type": "code",
   "execution_count": 37,
   "metadata": {},
   "outputs": [
    {
     "name": "stdout",
     "output_type": "stream",
     "text": [
      "2\n",
      "3\n",
      "4\n",
      "5\n"
     ]
    }
   ],
   "source": [
    "# Aunque le podemos dar el rango deseado\n",
    "for i in range(2, N+1):\n",
    "    print(i)"
   ]
  },
  {
   "cell_type": "code",
   "execution_count": 38,
   "metadata": {},
   "outputs": [
    {
     "name": "stdout",
     "output_type": "stream",
     "text": [
      "2\n",
      "4\n"
     ]
    }
   ],
   "source": [
    "# En intérvalos superiores\n",
    "for i in range(2, N+1, 2):\n",
    "    print(i)"
   ]
  },
  {
   "cell_type": "code",
   "execution_count": 39,
   "metadata": {},
   "outputs": [
    {
     "name": "stdout",
     "output_type": "stream",
     "text": [
      "We are in iteration 0 and x = 0\n",
      "We are in iteration 1 and x = 2\n",
      "We are in iteration 2 and x = 4\n",
      "We are in iteration 3 and x = 6\n",
      "We are in iteration 4 and x = 8\n",
      "We are in iteration 5 and x = -10\n",
      "We are in iteration 6 and x = -12\n",
      "We are in iteration 7 and x = -14\n",
      "We are in iteration 8 and x = -16\n",
      "We are in iteration 9 and x = -18\n"
     ]
    }
   ],
   "source": [
    "# podemos usar if dentro de los for para hacer una u otra cosa\n",
    "for i in range(10):  \n",
    "    if i < 5:\n",
    "        x = i * 2\n",
    "    else:\n",
    "        x = i * -2  \n",
    "    print(\"We are in iteration {} and x = {}\".format(i,x))"
   ]
  },
  {
   "cell_type": "code",
   "execution_count": 40,
   "metadata": {},
   "outputs": [
    {
     "name": "stdout",
     "output_type": "stream",
     "text": [
      "We are in iteration 0\n",
      "We are in iteration 1\n",
      "We are in iteration 2\n",
      "We are in iteration 3\n",
      "We are in iteration 4\n",
      "We are in iteration 5\n"
     ]
    }
   ],
   "source": [
    "# Y también podemos salir de un loop con break\n",
    "for i in range(10):\n",
    "    if i > 5:\n",
    "        break\n",
    "    print(\"We are in iteration {}\".format(i))\n"
   ]
  },
  {
   "cell_type": "code",
   "execution_count": 41,
   "metadata": {},
   "outputs": [
    {
     "name": "stdout",
     "output_type": "stream",
     "text": [
      "apple\n",
      "orange\n",
      "apple\n",
      "pear\n",
      "orange\n",
      "banana\n"
     ]
    }
   ],
   "source": [
    "#podemos acceder directamente a los elementos de los iterables, como una lista\n",
    "\n",
    "basket = ['apple', 'orange', 'apple', 'pear', 'orange', 'banana']\n",
    "for elem in basket:\n",
    "    print( elem)\n"
   ]
  },
  {
   "cell_type": "code",
   "execution_count": 48,
   "metadata": {},
   "outputs": [
    {
     "name": "stdout",
     "output_type": "stream",
     "text": [
      "a\n",
      "b\n",
      "c\n",
      "0\n",
      "1\n",
      "2\n",
      "('a', 0)\n",
      "('b', 1)\n",
      "('c', 2)\n"
     ]
    }
   ],
   "source": [
    "dict_0 = {\"a\": 0, \"b\": 1, \"c\": 2}\n",
    "\n",
    "for elem in dict_0.keys():  # equivalente a dict_0\n",
    "    print(elem)\n",
    "    \n",
    "for elem in dict_0.values():\n",
    "    print(elem)\n",
    "    \n",
    "for elem in dict_0.items():\n",
    "    print(elem)        \n"
   ]
  },
  {
   "cell_type": "markdown",
   "metadata": {},
   "source": [
    "* enumerate"
   ]
  },
  {
   "cell_type": "code",
   "execution_count": 43,
   "metadata": {},
   "outputs": [
    {
     "name": "stdout",
     "output_type": "stream",
     "text": [
      "0 apple\n",
      "1 orange\n",
      "2 apple\n",
      "3 pear\n",
      "4 orange\n",
      "5 banana\n"
     ]
    }
   ],
   "source": [
    "for i,elem in enumerate(basket):\n",
    "    print(i,elem)"
   ]
  },
  {
   "cell_type": "markdown",
   "metadata": {},
   "source": [
    "## 2.1 List and dict comprehensions\n",
    "Cuando queremos generar una lista o un diccionario con las iteraciones se pueden escribir de manera más compacta y eficiente usando list and dict comprehension"
   ]
  },
  {
   "cell_type": "code",
   "execution_count": 48,
   "metadata": {},
   "outputs": [
    {
     "name": "stdout",
     "output_type": "stream",
     "text": [
      "True\n"
     ]
    }
   ],
   "source": [
    "#en vez de \n",
    "l2 = [] \n",
    "for i in range(2,N+1):\n",
    "    l2.append(i + 2)  \n",
    "    \n",
    "# escribimos en una sola línea\n",
    "l = [i + 2 for i in range(2, N+1)]\n",
    "\n",
    "print(l == l2)"
   ]
  },
  {
   "cell_type": "code",
   "execution_count": 53,
   "metadata": {},
   "outputs": [
    {
     "name": "stdout",
     "output_type": "stream",
     "text": [
      "{'a': 0, 'b': 1, 'c': 2}\n",
      "{'a': 3, 'b': 5, 'c': 7}\n"
     ]
    }
   ],
   "source": [
    "# lo mismo para los diccionarios. Imaginemos que queremos multiplicar por 2\n",
    "# todos los elementos del diccionario dict_0\n",
    "dict_0 = {\"a\": 0, \"b\": 1, \"c\": 2}\n",
    "\n",
    "dict_new = {k: v*2 + 3 for (k, v) in dict_0.items()}  # en k habrás las claves y en v los valores\n",
    "\n",
    "print(dict_0)\n",
    "print(dict_new)"
   ]
  },
  {
   "cell_type": "markdown",
   "metadata": {},
   "source": [
    "# 3. Funciones\n",
    "Una función es un conjunto de líneas de código que realizan una tarea específica y puede retornar uno o más valores. Las funciones pueden tomar parámetros que modifiquen su funcionamiento.\n",
    "\n",
    "Las funciones cogen variables y dan una (o más) salidas. Son muy útiles para utilizarlas sin tener que escribirlas cada vez. Las funciones alteran el fjulo de ejecución lineal de un programa, ya que cuando la definimos con la palabra `def`, el código de dentro no se ejecuta de forma lineal si no cuando es llamada."
   ]
  },
  {
   "cell_type": "code",
   "execution_count": 60,
   "metadata": {},
   "outputs": [],
   "source": [
    "def escribirNombre(name):\n",
    "    print('Mi nombre es',name)"
   ]
  },
  {
   "cell_type": "code",
   "execution_count": 61,
   "metadata": {},
   "outputs": [
    {
     "name": "stdout",
     "output_type": "stream",
     "text": [
      "Mi nombre es Biuse\n"
     ]
    }
   ],
   "source": [
    " # No se ejecuta esa parte del código hasta que se llame\n",
    "escribirNombre('Biuse')"
   ]
  },
  {
   "cell_type": "markdown",
   "metadata": {},
   "source": [
    "puedo poner mensajes de control, para asegurarme que se llama con las variables adecuadas. Por ejemplo, yo puedo exigir que de entrada le den una string. \n",
    "que den u"
   ]
  },
  {
   "cell_type": "code",
   "execution_count": 56,
   "metadata": {},
   "outputs": [],
   "source": [
    "def escribirNombre(name):\n",
    "    if isinstance(name, str):\n",
    "        print('Mi nombre es',name)\n",
    "    else:\n",
    "        print('Error: Input must be a string')\n"
   ]
  },
  {
   "cell_type": "code",
   "execution_count": 57,
   "metadata": {},
   "outputs": [
    {
     "name": "stdout",
     "output_type": "stream",
     "text": [
      "Error: Input must be a string\n"
     ]
    }
   ],
   "source": [
    "#escribirNombre('Biuse')\n",
    "escribirNombre(421)"
   ]
  },
  {
   "cell_type": "code",
   "execution_count": 58,
   "metadata": {},
   "outputs": [],
   "source": [
    "# Definimos una función para calcular el volúmen de una esfera\n",
    "import numpy as np\n",
    "\n",
    "def VolSph(r):\n",
    "    V = 4 / 3 * np.pi * r **3 \n",
    "    print(\"Volumen de una esfera de radio {} es {:.2f}\".format(r, V))    "
   ]
  },
  {
   "cell_type": "code",
   "execution_count": 75,
   "metadata": {},
   "outputs": [
    {
     "name": "stdout",
     "output_type": "stream",
     "text": [
      "Volumen de una esfera de radio 4 es 268.08\n"
     ]
    }
   ],
   "source": [
    "VolSph(4)"
   ]
  },
  {
   "cell_type": "markdown",
   "metadata": {},
   "source": [
    "# 4. Ejercicios para practicar"
   ]
  },
  {
   "cell_type": "markdown",
   "metadata": {},
   "source": [
    "1. En el ejemplo del paso de peatones, añade los prints en el código de tal manera que en la salida explique si el peatón está distraído y si hay un coche cruzando en cada caso posible correctamente. Intenta hacerlo con el menor número de nuevas líneas posible. "
   ]
  },
  {
   "cell_type": "code",
   "execution_count": null,
   "metadata": {},
   "outputs": [],
   "source": [
    "# añade las líneas de código que permitan obtener los prints correspondientes\n",
    "\n",
    "light_color = \"verde\"\n",
    "car_crossing = False\n",
    "pedestrian_distracted = False\n",
    "\n",
    "print(\"Peatón llega a intersección\")\n",
    "print(\"Semáforo está en \" + light_color)\n",
    "\n",
    "\n",
    "if light_color == 'verde' and not pedestrian_distracted:\n",
    "    print(\"peatón no está distraído\")\n",
    "    if not car_crossing:\n",
    "        print(\"Peatón cruza\")\n",
    "        print(\"Peatón llega a la destinación\")\n",
    "    else:\n",
    "        print(\"Peatón chilla!\")\n",
    "elif light_color == 'naranja' and not pedestrian_distracted:\n",
    "    print(\"Peatón se prepara para cruzar\")\n",
    "else:\n",
    "    if print(\"peatón no está distraído\")\n",
    "    print(\"Peatón se queda quieto\")"
   ]
  },
  {
   "cell_type": "markdown",
   "metadata": {},
   "source": [
    "2. Calcula la suma de los primers 100 números pares. (pista: los números pares cumplen la condición i % 2 == 0)"
   ]
  },
  {
   "cell_type": "code",
   "execution_count": null,
   "metadata": {},
   "outputs": [],
   "source": [
    "# Escribe código"
   ]
  },
  {
   "cell_type": "markdown",
   "metadata": {},
   "source": [
    "3.  Haz una función que dada una lista, la ordene y te devuelva la primera palabra\n",
    "\n",
    "Aplica esta función a la lista: ['Bangkok','Barcelona','Beijing','BuenosAires','Berlin','Badajoz','Barakaldo','Barcena','Burgos','Bilbao','Baena']"
   ]
  },
  {
   "cell_type": "markdown",
   "metadata": {},
   "source": [
    "4. Contad y guardad en un diccionario el número de veces que aparece cada palabra en el siguiente texto:\n",
    "\n",
    "*Forty-two is a pronic number and an abundant number; its prime factorization 2 · 3 · 7 makes it the second sphenic number and also the second of the form (2 · 3 · r).*"
   ]
  },
  {
   "cell_type": "code",
   "execution_count": 76,
   "metadata": {},
   "outputs": [],
   "source": [
    "# podéis usar text.split() para tener una lista con las palabras separadas\n",
    "# donde text es la frase text = \"Forty-two ....\""
   ]
  }
 ],
 "metadata": {
  "kernelspec": {
   "display_name": "Python 3 (ipykernel)",
   "language": "python",
   "name": "python3"
  },
  "language_info": {
   "codemirror_mode": {
    "name": "ipython",
    "version": 3
   },
   "file_extension": ".py",
   "mimetype": "text/x-python",
   "name": "python",
   "nbconvert_exporter": "python",
   "pygments_lexer": "ipython3",
   "version": "3.8.2"
  }
 },
 "nbformat": 4,
 "nbformat_minor": 2
}
